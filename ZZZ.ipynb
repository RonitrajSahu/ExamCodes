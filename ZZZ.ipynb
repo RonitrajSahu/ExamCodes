{
 "cells": [
  {
   "cell_type": "code",
   "execution_count": 20,
   "metadata": {},
   "outputs": [],
   "source": [
    "import pandas as pd\n",
    "s = pd.Series([89.2, 76.4, 98.2, 75.9], index=list('abcd'))"
   ]
  },
  {
   "cell_type": "code",
   "execution_count": 21,
   "metadata": {},
   "outputs": [
    {
     "name": "stdout",
     "output_type": "stream",
     "text": [
      "Hi\n"
     ]
    }
   ],
   "source": [
    "if ('b' in s):\n",
    "    print('Hi')"
   ]
  },
  {
   "cell_type": "code",
   "execution_count": 22,
   "metadata": {},
   "outputs": [
    {
     "name": "stdout",
     "output_type": "stream",
     "text": [
      "    Student_height  Student_weight\n",
      "s1          8176.2            85.1\n",
      "s2           158.4            90.2\n"
     ]
    }
   ],
   "source": [
    "import pandas as pd\n",
    "\n",
    "heights_A = pd.Series([8176.2, 158.4, 167.6, 156.2,161.4], index=['s1','s2','s3','s4','s5'])\n",
    "weights_A = pd.Series([85.1, 90.2, 76.8, 80.4,78.9], index=['s1','s2','s3','s4','s5'])\n",
    "\n",
    "# print(heights_A[1])\n",
    "data = {\"Student_height\": heights_A, \n",
    "        \"Student_weight\": weights_A} \n",
    "df_A = pd.DataFrame(data)\n",
    "\n",
    "df_s1s2 = df_A.loc[['s1','s2']]\n",
    "\n",
    "print(df_s1s2)"
   ]
  },
  {
   "cell_type": "code",
   "execution_count": 23,
   "metadata": {},
   "outputs": [
    {
     "name": "stdout",
     "output_type": "stream",
     "text": [
      "    Student_height  Student_weight\n",
      "s2           158.4            90.2\n",
      "s5           161.4            78.9\n",
      "s1          8176.2            85.1\n"
     ]
    }
   ],
   "source": [
    "import pandas as pd\n",
    "\n",
    "heights_A = pd.Series([8176.2, 158.4, 167.6, 156.2,161.4], index=['s1','s2','s3','s4','s5'])\n",
    "weights_A = pd.Series([85.1, 90.2, 76.8, 80.4,78.9], index=['s1','s2','s3','s4','s5'])\n",
    "\n",
    "# print(heights_A[1])\n",
    "data = {\"Student_height\": heights_A, \n",
    "        \"Student_weight\": weights_A} \n",
    "df_A = pd.DataFrame(data)\n",
    "\n",
    "df_s2s5s1 = df_A.loc[['s2','s5','s1']]\n",
    "\n",
    "print(df_s2s5s1)"
   ]
  },
  {
   "cell_type": "code",
   "execution_count": 24,
   "metadata": {},
   "outputs": [
    {
     "name": "stdout",
     "output_type": "stream",
     "text": [
      "    Student_height  Student_weight\n",
      "s1          8176.2            85.1\n",
      "s4           156.2            80.4\n"
     ]
    }
   ],
   "source": [
    "import pandas as pd\n",
    "\n",
    "heights_A = pd.Series([8176.2, 158.4, 167.6, 156.2,161.4], index=['s1','s2','s3','s4','s5'])\n",
    "weights_A = pd.Series([85.1, 90.2, 76.8, 80.4,78.9], index=['s1','s2','s3','s4','s5'])\n",
    "\n",
    "# print(heights_A[1])\n",
    "data = {\"Student_height\": heights_A, \n",
    "        \"Student_weight\": weights_A}\n",
    "df_A = pd.DataFrame(data)\n",
    "\n",
    "df_s1s4= df_A.loc[(df_A.index.str.endswith('1') | df_A.index.str.endswith('4'))]\n",
    "\n",
    "print(df_s1s4)"
   ]
  },
  {
   "cell_type": "code",
   "execution_count": null,
   "metadata": {},
   "outputs": [],
   "source": [
    "df = pd.DataFrame({'A':[34, 78, 54], 'B':[12, 67, 43]}, index=['r1', 'r2', 'r3'])\n",
    "df.loc['r4'] = [67, 78]\n"
   ]
  },
  {
   "cell_type": "code",
   "execution_count": null,
   "metadata": {},
   "outputs": [],
   "source": [
    "df"
   ]
  },
  {
   "cell_type": "code",
   "execution_count": null,
   "metadata": {},
   "outputs": [],
   "source": [
    "import pandas as pd\n",
    "\n",
    "df = pd.DataFrame({'A':[34, 78, 54], 'B':[12, 67, 43]}, index=['r1', 'r2', 'r3'])"
   ]
  },
  {
   "cell_type": "code",
   "execution_count": null,
   "metadata": {},
   "outputs": [],
   "source": [
    "df[:2]"
   ]
  },
  {
   "cell_type": "code",
   "execution_count": null,
   "metadata": {},
   "outputs": [],
   "source": [
    "df.iloc[:2]"
   ]
  },
  {
   "cell_type": "code",
   "execution_count": 25,
   "metadata": {},
   "outputs": [
    {
     "name": "stdout",
     "output_type": "stream",
     "text": [
      "True\n",
      "False\n",
      "True\n",
      "True\n"
     ]
    }
   ],
   "source": [
    "name = \"M234onica\"\n",
    "print(name.isalnum())\n",
    "\n",
    "# contains whitespace\n",
    "name = \"M3onica_Gell22er \"\n",
    "print(name.isalnum())\n",
    "\n",
    "name = \"Mo3nicaGell22er\"\n",
    "print(name.isalnum())\n",
    "\n",
    "name = \"133\"\n",
    "print(name.isalnum())"
   ]
  },
  {
   "cell_type": "code",
   "execution_count": 26,
   "metadata": {},
   "outputs": [
    {
     "name": "stdout",
     "output_type": "stream",
     "text": [
      "False\n",
      "False\n",
      "False\n"
     ]
    }
   ],
   "source": [
    "s = \"282.12\"\n",
    "print(s.isdecimal())\n",
    "\n",
    "# contains alphabets\n",
    "s = \"32ladk3\"\n",
    "print(s.isdecimal())\n",
    "\n",
    "# contains alphabets and spaces\n",
    "s = \"Mo3 nicaG el l22er\"\n",
    "print(s.isdecimal())"
   ]
  },
  {
   "cell_type": "code",
   "execution_count": 27,
   "metadata": {},
   "outputs": [
    {
     "data": {
      "text/plain": [
       "['ronit', 'sahu', 'raj']"
      ]
     },
     "execution_count": 27,
     "metadata": {},
     "output_type": "execute_result"
    }
   ],
   "source": [
    "l = [\"ronit\",\"raj\",\"sahu\"]\n",
    "l.sort(key = len, reverse = True)\n",
    "l"
   ]
  },
  {
   "cell_type": "code",
   "execution_count": 28,
   "metadata": {},
   "outputs": [],
   "source": [
    "del l[1]"
   ]
  },
  {
   "cell_type": "code",
   "execution_count": 29,
   "metadata": {},
   "outputs": [
    {
     "data": {
      "text/plain": [
       "['ronit', 'raj']"
      ]
     },
     "execution_count": 29,
     "metadata": {},
     "output_type": "execute_result"
    }
   ],
   "source": [
    "l"
   ]
  },
  {
   "cell_type": "code",
   "execution_count": 30,
   "metadata": {},
   "outputs": [],
   "source": [
    "del l"
   ]
  },
  {
   "cell_type": "code",
   "execution_count": 31,
   "metadata": {},
   "outputs": [
    {
     "ename": "NameError",
     "evalue": "name 'l' is not defined",
     "output_type": "error",
     "traceback": [
      "\u001b[0;31m---------------------------------------------------------------------------\u001b[0m",
      "\u001b[0;31mNameError\u001b[0m                                 Traceback (most recent call last)",
      "\u001b[0;32m<ipython-input-31-cde25b5e10ad>\u001b[0m in \u001b[0;36m<module>\u001b[0;34m\u001b[0m\n\u001b[0;32m----> 1\u001b[0;31m \u001b[0ml\u001b[0m\u001b[0;34m\u001b[0m\u001b[0;34m\u001b[0m\u001b[0m\n\u001b[0m",
      "\u001b[0;31mNameError\u001b[0m: name 'l' is not defined"
     ]
    }
   ],
   "source": [
    "l"
   ]
  },
  {
   "cell_type": "code",
   "execution_count": 32,
   "metadata": {},
   "outputs": [
    {
     "name": "stdout",
     "output_type": "stream",
     "text": [
      "d = {}\n"
     ]
    }
   ],
   "source": [
    "d = {1: \"one\", 2: \"two\"}\n",
    "\n",
    "d.clear()\n",
    "print('d =', d)"
   ]
  },
  {
   "cell_type": "code",
   "execution_count": 33,
   "metadata": {},
   "outputs": [
    {
     "data": {
      "text/plain": [
       "{}"
      ]
     },
     "execution_count": 33,
     "metadata": {},
     "output_type": "execute_result"
    }
   ],
   "source": [
    "d"
   ]
  },
  {
   "cell_type": "code",
   "execution_count": 34,
   "metadata": {},
   "outputs": [
    {
     "name": "stdout",
     "output_type": "stream",
     "text": [
      "{'a': None, 'e': None, 'i': None, 'o': None, 'u': None}\n"
     ]
    }
   ],
   "source": [
    "# vowels keys\n",
    "# keys = {'a', 'e', 'i', 'o', 'u' }\n",
    "keys = ['a', 'e', 'i', 'o', 'u' ]\n",
    "\n",
    "vowels = dict.fromkeys(keys)\n",
    "print(vowels)"
   ]
  },
  {
   "cell_type": "code",
   "execution_count": 36,
   "metadata": {},
   "outputs": [
    {
     "name": "stdout",
     "output_type": "stream",
     "text": [
      "{'a': 'a', 'e': 'e', 'i': 'i', 'o': 'o', 'u': 'u'}\n"
     ]
    }
   ],
   "source": [
    "for i in vowels.keys():\n",
    "    vowels[i] = i\n",
    "print(vowels)"
   ]
  },
  {
   "cell_type": "code",
   "execution_count": 35,
   "metadata": {},
   "outputs": [
    {
     "name": "stdout",
     "output_type": "stream",
     "text": [
      "{'a': 'vowel', 'e': 'vowel', 'i': 'vowel', 'o': 'vowel', 'u': 'vowel'}\n"
     ]
    }
   ],
   "source": [
    "# vowels keys\n",
    "# keys = {'a', 'e', 'i', 'o', 'u' }\n",
    "keys = ['a', 'e', 'i', 'o', 'u' ]\n",
    "value = 'vowel'\n",
    "vowels = dict.fromkeys(keys,value)\n",
    "print(vowels)"
   ]
  },
  {
   "cell_type": "code",
   "execution_count": 38,
   "metadata": {},
   "outputs": [
    {
     "name": "stdout",
     "output_type": "stream",
     "text": [
      "Name:  Phill\n",
      "Age:  22\n",
      "Salary:  None\n",
      "Salary:  0.0\n"
     ]
    },
    {
     "data": {
      "text/plain": [
       "{'name': 'Phill', 'age': 22}"
      ]
     },
     "execution_count": 38,
     "metadata": {},
     "output_type": "execute_result"
    }
   ],
   "source": [
    "person = {'name': 'Phill', 'age': 22}\n",
    "\n",
    "print('Name: ', person.get('name'))\n",
    "print('Age: ', person.get('age'))\n",
    "\n",
    "# value is not provided\n",
    "print('Salary: ', person.get('salary'))\n",
    "\n",
    "# value is provided\n",
    "print('Salary: ', person.get('salary', 0.0))\n",
    "person"
   ]
  },
  {
   "cell_type": "code",
   "execution_count": 39,
   "metadata": {},
   "outputs": [
    {
     "name": "stdout",
     "output_type": "stream",
     "text": [
      "Salary:  None\n"
     ]
    },
    {
     "ename": "KeyError",
     "evalue": "'salary'",
     "output_type": "error",
     "traceback": [
      "\u001b[0;31m---------------------------------------------------------------------------\u001b[0m",
      "\u001b[0;31mKeyError\u001b[0m                                  Traceback (most recent call last)",
      "\u001b[0;32m<ipython-input-39-0ce6df1f1514>\u001b[0m in \u001b[0;36m<module>\u001b[0;34m\u001b[0m\n\u001b[1;32m      5\u001b[0m \u001b[0;34m\u001b[0m\u001b[0m\n\u001b[1;32m      6\u001b[0m \u001b[0;31m# Using [] results in KeyError\u001b[0m\u001b[0;34m\u001b[0m\u001b[0;34m\u001b[0m\u001b[0;34m\u001b[0m\u001b[0m\n\u001b[0;32m----> 7\u001b[0;31m \u001b[0mprint\u001b[0m\u001b[0;34m(\u001b[0m\u001b[0mperson\u001b[0m\u001b[0;34m[\u001b[0m\u001b[0;34m'salary'\u001b[0m\u001b[0;34m]\u001b[0m\u001b[0;34m)\u001b[0m\u001b[0;34m\u001b[0m\u001b[0;34m\u001b[0m\u001b[0m\n\u001b[0m",
      "\u001b[0;31mKeyError\u001b[0m: 'salary'"
     ]
    }
   ],
   "source": [
    "person = {}\n",
    "\n",
    "# Using get() results in None\n",
    "print('Salary: ', person.get('salary'))\n",
    "\n",
    "# Using [] results in KeyError\n",
    "print(person['salary'])"
   ]
  },
  {
   "cell_type": "code",
   "execution_count": 40,
   "metadata": {},
   "outputs": [
    {
     "name": "stdout",
     "output_type": "stream",
     "text": [
      "dict_items([('apple', 2), ('orange', 3), ('grapes', 4)])\n"
     ]
    }
   ],
   "source": [
    "# random sales dictionary\n",
    "sales = { 'apple': 2, 'orange': 3, 'grapes': 4 }\n",
    "\n",
    "print(sales.items())"
   ]
  },
  {
   "cell_type": "code",
   "execution_count": null,
   "metadata": {},
   "outputs": [],
   "source": [
    "print([sales.items()])"
   ]
  },
  {
   "cell_type": "code",
   "execution_count": null,
   "metadata": {},
   "outputs": [],
   "source": [
    "# random sales dictionary\n",
    "sales = { 'apple': 2, 'orange': 3, 'grapes': 4 }\n",
    "\n",
    "items = sales.items()\n",
    "print('Original items:', items)\n",
    "\n",
    "# delete an item from dictionary\n",
    "del[sales['apple']]\n",
    "\n",
    "\n",
    "print('Updated items:', items)"
   ]
  },
  {
   "cell_type": "code",
   "execution_count": null,
   "metadata": {},
   "outputs": [],
   "source": [
    "person = {'name': 'Phill', 'age': 22, 'salary': 3500.0}\n",
    "\n",
    "print(person.keys())\n",
    "\n",
    "empty_dict = {}\n",
    "print(empty_dict.keys())"
   ]
  },
  {
   "cell_type": "code",
   "execution_count": 46,
   "metadata": {},
   "outputs": [
    {
     "name": "stdout",
     "output_type": "stream",
     "text": [
      "Before dictionary is updated\n",
      "dict_keys(['name', 'age'])\n",
      "\n",
      "After dictionary is updated\n",
      "dict_keys(['name', 'age', 'salary'])\n",
      "dict_keys(['name', 'age', 'salary'])\n"
     ]
    },
    {
     "data": {
      "text/plain": [
       "{'name': 'Phill', 'age': 22, 'salary': 3500.0}"
      ]
     },
     "execution_count": 46,
     "metadata": {},
     "output_type": "execute_result"
    }
   ],
   "source": [
    "person = {'name': 'Phill', 'age': 22, }\n",
    "\n",
    "print('Before dictionary is updated')\n",
    "keys = person.keys()\n",
    "print(keys)\n",
    "\n",
    "# adding an element to the dictionary\n",
    "person.update({'salary': 3600.0})\n",
    "print('\\nAfter dictionary is updated')\n",
    "print(keys)\n",
    "\n",
    "person.update({'salary': 3500.0})\n",
    "\n",
    "print(keys)\n",
    "person"
   ]
  },
  {
   "cell_type": "code",
   "execution_count": 50,
   "metadata": {},
   "outputs": [
    {
     "name": "stdout",
     "output_type": "stream",
     "text": [
      "Return Value =  22\n",
      "person =  {'name': 'Phill', 'salary': 3500.0}\n",
      "Return Value =  ('profession', 'Plumber')\n",
      "person =  {'name': 'Phill', 'salary': 3500.0}\n"
     ]
    }
   ],
   "source": [
    "person = {'name': 'Phill', 'age': 22, 'salary': 3500.0}\n",
    "\n",
    "# ('salary', 3500.0) is inserted at the last, so it is removed.\n",
    "result = person.pop('age')\n",
    "\n",
    "print('Return Value = ', result)\n",
    "print('person = ', person)\n",
    "\n",
    "# inserting a new element pair\n",
    "\n",
    "person['profession'] = 'Plumber'\n",
    "\n",
    "# now ('profession', 'Plumber') is the latest element\n",
    "result = person.popitem()\n",
    "\n",
    "print('Return Value = ', result)\n",
    "print('person = ', person)"
   ]
  },
  {
   "cell_type": "code",
   "execution_count": 1,
   "metadata": {},
   "outputs": [
    {
     "name": "stdout",
     "output_type": "stream",
     "text": [
      "person =  {'name': 'Phill', 'salary': None}\n",
      "salary =  None\n",
      "person =  {'name': 'Phill', 'salary': None, 'age': 22}\n",
      "age =  22\n"
     ]
    }
   ],
   "source": [
    "person = {'name': 'Phill'}\n",
    "\n",
    "# key is not in the dictionary\n",
    "salary = person.setdefault('salary')\n",
    "print('person = ',person)\n",
    "print('salary = ',salary)\n",
    "\n",
    "# key is not in the dictionary\n",
    "# default_value is provided\n",
    "age = person.setdefault('age', 22)\n",
    "print('person = ',person)\n",
    "print('age = ',age)"
   ]
  },
  {
   "cell_type": "code",
   "execution_count": 57,
   "metadata": {},
   "outputs": [
    {
     "name": "stdout",
     "output_type": "stream",
     "text": [
      "The popped element is: banana\n",
      "The dictionary is: {'apple': 2, 'orange': 3, 'grapes': 4}\n"
     ]
    }
   ],
   "source": [
    "# random sales dictionary\n",
    "sales = { 'apple': 2, 'orange': 3, 'grapes': 4 }\n",
    "\n",
    "element = sales.pop('guava', 'banana')\n",
    "print('The popped element is:', element)\n",
    "print('The dictionary is:', sales)"
   ]
  },
  {
   "cell_type": "code",
   "execution_count": 58,
   "metadata": {},
   "outputs": [
    {
     "name": "stdout",
     "output_type": "stream",
     "text": [
      "The popped element is: 2\n",
      "The dictionary is: {'orange': 3, 'grapes': 4}\n"
     ]
    }
   ],
   "source": [
    "# random sales dictionary\n",
    "sales = { 'apple': 2, 'orange': 3, 'grapes': 4 }\n",
    "\n",
    "element = sales.pop('apple')\n",
    "print('The popped element is:', element)\n",
    "print('The dictionary is:', sales)"
   ]
  },
  {
   "cell_type": "code",
   "execution_count": null,
   "metadata": {},
   "outputs": [],
   "source": [
    "# random sales dictionary\n",
    "sales = { 'apple': 2, 'orange': 3, 'grapes': 4 }\n",
    "\n",
    "print(sales.values())"
   ]
  },
  {
   "cell_type": "code",
   "execution_count": null,
   "metadata": {},
   "outputs": [],
   "source": [
    "for i in sales.values():\n",
    "    print(i)"
   ]
  },
  {
   "cell_type": "code",
   "execution_count": null,
   "metadata": {},
   "outputs": [],
   "source": [
    "[i for i in sales.values()]"
   ]
  },
  {
   "cell_type": "code",
   "execution_count": null,
   "metadata": {},
   "outputs": [],
   "source": [
    "d = {1: \"one\", 2: \"three\"}\n",
    "d1 = {2: \"two\"}\n",
    "\n",
    "# updates the value of key 2\n",
    "d.update(d1)\n",
    "print(d)\n",
    "\n",
    "d1 = {3: \"three\"}\n",
    "\n",
    "# adds element with key 3\n",
    "d.update(d1)\n",
    "print(d)"
   ]
  },
  {
   "cell_type": "code",
   "execution_count": 59,
   "metadata": {},
   "outputs": [
    {
     "name": "stdout",
     "output_type": "stream",
     "text": [
      "{'x': 2, 'y': 3, 'z': 0}\n"
     ]
    }
   ],
   "source": [
    "d = {'x': 2}\n",
    "\n",
    "d.update(y = 3, z = 0)\n",
    "print(d)"
   ]
  },
  {
   "cell_type": "code",
   "execution_count": 60,
   "metadata": {},
   "outputs": [
    {
     "name": "stdout",
     "output_type": "stream",
     "text": [
      "set()\n",
      "{'P', 'n', 'y', 'o', 'h', 't'}\n",
      "{'i', 'e', 'o', 'u', 'a'}\n",
      "{'i', 'e', 'o', 'u', 'a'}\n",
      "{0, 1, 2, 3, 4}\n"
     ]
    }
   ],
   "source": [
    "# empty set\n",
    "print(set())\n",
    "\n",
    "# from string\n",
    "print(set('Python'))\n",
    "\n",
    "# from tuple\n",
    "print(set(('a', 'e', 'i', 'o', 'u')))\n",
    "\n",
    "# from list\n",
    "print(set(['a', 'e', 'i', 'o', 'u']))\n",
    "\n",
    "# from range\n",
    "print(set(range(5)))"
   ]
  },
  {
   "cell_type": "code",
   "execution_count": 62,
   "metadata": {},
   "outputs": [
    {
     "name": "stdout",
     "output_type": "stream",
     "text": [
      "{'o', 'i', 'e', 'u', 'a'}\n",
      "{'o', 'e', 'i', 'u', 'a'}\n",
      "{'o', 'i', 'e', 'u', 'a'}\n"
     ]
    }
   ],
   "source": [
    "# from set\n",
    "print(set({'a', 'e', 'i', 'o', 'u'}))\n",
    "\n",
    "# from dictionary\n",
    "print(set({'a':1, 'e': 2, 'i':3, 'o':4, 'u':5}))\n",
    "\n",
    "# from frozen set\n",
    "frozen_set = frozenset(('a', 'e', 'i', 'o', 'u'))\n",
    "print(set(frozen_set))"
   ]
  },
  {
   "cell_type": "code",
   "execution_count": 63,
   "metadata": {},
   "outputs": [
    {
     "name": "stdout",
     "output_type": "stream",
     "text": [
      "{'banana', 'orange', 'apple', 'cherry'}\n"
     ]
    }
   ],
   "source": [
    "fruits = {\"apple\", \"banana\", \"cherry\"}\n",
    "\n",
    "fruits.add(\"orange\")\n",
    "\n",
    "print(fruits)"
   ]
  },
  {
   "cell_type": "code",
   "execution_count": 64,
   "metadata": {},
   "outputs": [
    {
     "name": "stdout",
     "output_type": "stream",
     "text": [
      "{'banana', 'cherry'}\n"
     ]
    }
   ],
   "source": [
    "x = {\"apple\", \"banana\", \"cherry\"}\n",
    "y = {\"google\", \"microsoft\", \"apple\"}\n",
    "\n",
    "z = x.difference(y)\n",
    "\n",
    "print(z)"
   ]
  },
  {
   "cell_type": "code",
   "execution_count": 65,
   "metadata": {},
   "outputs": [
    {
     "name": "stdout",
     "output_type": "stream",
     "text": [
      "{'banana', 'cherry'}\n"
     ]
    }
   ],
   "source": [
    "x = {\"apple\", \"banana\", \"cherry\"}\n",
    "y = {\"google\", \"microsoft\", \"apple\"}\n",
    "\n",
    "x.difference_update(y)\n",
    "\n",
    "print(x)"
   ]
  },
  {
   "cell_type": "code",
   "execution_count": 66,
   "metadata": {},
   "outputs": [
    {
     "name": "stdout",
     "output_type": "stream",
     "text": [
      "{'apple'}\n"
     ]
    }
   ],
   "source": [
    "x = {\"apple\", \"banana\", \"cherry\"}\n",
    "y = {\"google\", \"microsoft\", \"apple\"}\n",
    "\n",
    "z = x.intersection(y)\n",
    "\n",
    "print(z)"
   ]
  },
  {
   "cell_type": "code",
   "execution_count": 67,
   "metadata": {},
   "outputs": [
    {
     "name": "stdout",
     "output_type": "stream",
     "text": [
      "{'apple'}\n"
     ]
    }
   ],
   "source": [
    "x = {\"apple\", \"banana\", \"cherry\"}\n",
    "y = {\"google\", \"microsoft\", \"apple\"}\n",
    "\n",
    "x.intersection_update(y)\n",
    "\n",
    "print(x)"
   ]
  },
  {
   "cell_type": "code",
   "execution_count": 68,
   "metadata": {},
   "outputs": [
    {
     "data": {
      "text/plain": [
       "True"
      ]
     },
     "execution_count": 68,
     "metadata": {},
     "output_type": "execute_result"
    }
   ],
   "source": [
    "x = {\"apple\", \"banana\", \"cherry\"}\n",
    "y = {\"google\", \"microsoft\", \"facebook\"}\n",
    "\n",
    "z = x.isdisjoint(y) \n",
    "z"
   ]
  },
  {
   "cell_type": "code",
   "execution_count": 69,
   "metadata": {},
   "outputs": [
    {
     "data": {
      "text/plain": [
       "False"
      ]
     },
     "execution_count": 69,
     "metadata": {},
     "output_type": "execute_result"
    }
   ],
   "source": [
    "x = {\"apple\", \"banana\", \"cherry\"}\n",
    "y = {\"google\", \"apple\", \"facebook\"}\n",
    "\n",
    "z = x.isdisjoint(y) \n",
    "z"
   ]
  },
  {
   "cell_type": "code",
   "execution_count": 70,
   "metadata": {},
   "outputs": [
    {
     "name": "stdout",
     "output_type": "stream",
     "text": [
      "{'banana', 'google', 'cherry', 'microsoft'}\n"
     ]
    }
   ],
   "source": [
    "x = {\"apple\", \"banana\", \"cherry\"}\n",
    "y = {\"google\", \"microsoft\", \"apple\"}\n",
    "\n",
    "z = x.symmetric_difference(y)\n",
    "\n",
    "print(z)"
   ]
  },
  {
   "cell_type": "code",
   "execution_count": 71,
   "metadata": {},
   "outputs": [
    {
     "data": {
      "text/plain": [
       "{'apple', 'banana', 'cherry', 'google', 'microsoft'}"
      ]
     },
     "execution_count": 71,
     "metadata": {},
     "output_type": "execute_result"
    }
   ],
   "source": [
    "x | y"
   ]
  },
  {
   "cell_type": "code",
   "execution_count": 72,
   "metadata": {},
   "outputs": [
    {
     "data": {
      "text/plain": [
       "{'apple'}"
      ]
     },
     "execution_count": 72,
     "metadata": {},
     "output_type": "execute_result"
    }
   ],
   "source": [
    "x & y"
   ]
  },
  {
   "cell_type": "code",
   "execution_count": 73,
   "metadata": {},
   "outputs": [
    {
     "data": {
      "text/plain": [
       "{'banana', 'cherry'}"
      ]
     },
     "execution_count": 73,
     "metadata": {},
     "output_type": "execute_result"
    }
   ],
   "source": [
    "x - y"
   ]
  },
  {
   "cell_type": "code",
   "execution_count": 74,
   "metadata": {},
   "outputs": [
    {
     "data": {
      "text/plain": [
       "{'google', 'microsoft'}"
      ]
     },
     "execution_count": 74,
     "metadata": {},
     "output_type": "execute_result"
    }
   ],
   "source": [
    "y - x"
   ]
  },
  {
   "cell_type": "code",
   "execution_count": null,
   "metadata": {},
   "outputs": [],
   "source": []
  },
  {
   "cell_type": "code",
   "execution_count": 76,
   "metadata": {},
   "outputs": [
    {
     "data": {
      "text/plain": [
       "1"
      ]
     },
     "execution_count": 76,
     "metadata": {},
     "output_type": "execute_result"
    }
   ],
   "source": [
    "import random\n",
    "\n",
    "random.randrange(1, 10)"
   ]
  },
  {
   "cell_type": "code",
   "execution_count": 78,
   "metadata": {},
   "outputs": [
    {
     "name": "stdout",
     "output_type": "stream",
     "text": [
      "6\n"
     ]
    }
   ],
   "source": [
    "print(random.randint(1, 10))"
   ]
  },
  {
   "cell_type": "code",
   "execution_count": 79,
   "metadata": {},
   "outputs": [],
   "source": [
    "s = \"Ronitraj Sahu\""
   ]
  },
  {
   "cell_type": "code",
   "execution_count": 80,
   "metadata": {},
   "outputs": [
    {
     "data": {
      "text/plain": [
       "'raj Sahu'"
      ]
     },
     "execution_count": 80,
     "metadata": {},
     "output_type": "execute_result"
    }
   ],
   "source": [
    "s[5:]"
   ]
  },
  {
   "cell_type": "code",
   "execution_count": 81,
   "metadata": {},
   "outputs": [
    {
     "data": {
      "text/plain": [
       "'Ronit'"
      ]
     },
     "execution_count": 81,
     "metadata": {},
     "output_type": "execute_result"
    }
   ],
   "source": [
    "s[:5]"
   ]
  },
  {
   "cell_type": "code",
   "execution_count": 82,
   "metadata": {},
   "outputs": [
    {
     "data": {
      "text/plain": [
       "' Sahu'"
      ]
     },
     "execution_count": 82,
     "metadata": {},
     "output_type": "execute_result"
    }
   ],
   "source": [
    "s[-5:]"
   ]
  },
  {
   "cell_type": "code",
   "execution_count": 83,
   "metadata": {},
   "outputs": [
    {
     "data": {
      "text/plain": [
       "'Ronitraj'"
      ]
     },
     "execution_count": 83,
     "metadata": {},
     "output_type": "execute_result"
    }
   ],
   "source": [
    "s[:-5]"
   ]
  },
  {
   "cell_type": "code",
   "execution_count": 97,
   "metadata": {},
   "outputs": [
    {
     "data": {
      "text/plain": [
       "'jartinoR'"
      ]
     },
     "execution_count": 97,
     "metadata": {},
     "output_type": "execute_result"
    }
   ],
   "source": [
    "s[-6::-1]"
   ]
  },
  {
   "cell_type": "code",
   "execution_count": 98,
   "metadata": {},
   "outputs": [
    {
     "data": {
      "text/plain": [
       "1"
      ]
     },
     "execution_count": 98,
     "metadata": {},
     "output_type": "execute_result"
    }
   ],
   "source": [
    "def PowTwoGen(max=0):\n",
    "    n = 0\n",
    "    while n < max:\n",
    "        yield 2 ** n\n",
    "        n += 1\n",
    "        \n",
    "next(PowTwoGen(6))"
   ]
  },
  {
   "cell_type": "code",
   "execution_count": 99,
   "metadata": {},
   "outputs": [],
   "source": [
    "n = PowTwoGen(6)"
   ]
  },
  {
   "cell_type": "code",
   "execution_count": 101,
   "metadata": {},
   "outputs": [
    {
     "data": {
      "text/plain": [
       "2"
      ]
     },
     "execution_count": 101,
     "metadata": {},
     "output_type": "execute_result"
    }
   ],
   "source": [
    "next(n)"
   ]
  },
  {
   "cell_type": "code",
   "execution_count": 105,
   "metadata": {},
   "outputs": [
    {
     "name": "stdout",
     "output_type": "stream",
     "text": [
      "Pleasen enter the number:16\n",
      "0 1 1 2 3 5 8 13 21 34 55 89 144 233 377 610 "
     ]
    }
   ],
   "source": [
    "\n",
    "result = list()\n",
    "for i in range(int(input(\"Pleasen enter the number:\"))):\n",
    "    if i == 0:\n",
    "        result.append(0)\n",
    "    elif i == 1:\n",
    "        result.append(1)\n",
    "    else:\n",
    "        result.append(result[i-2]+result[i-1])\n",
    "    \n",
    "for i in result:\n",
    "    print(i,end = \" \")"
   ]
  },
  {
   "cell_type": "code",
   "execution_count": 107,
   "metadata": {},
   "outputs": [
    {
     "name": "stdout",
     "output_type": "stream",
     "text": [
      "0 1 1 2 3 "
     ]
    }
   ],
   "source": [
    "\n",
    "result = list()\n",
    "for i in range(5):\n",
    "    if i == 0:\n",
    "        result.append(0)\n",
    "    elif i == 1:\n",
    "        result.append(1)\n",
    "    else:\n",
    "        result.append(result[i-2]+result[i-1])\n",
    "    \n",
    "for i in result:\n",
    "    print(i,end = \" \")"
   ]
  },
  {
   "cell_type": "code",
   "execution_count": 109,
   "metadata": {},
   "outputs": [
    {
     "name": "stdout",
     "output_type": "stream",
     "text": [
      "enter num ::5\n",
      "Perfect Square\n"
     ]
    }
   ],
   "source": [
    "from math import sqrt\n",
    "a = int(input(\"enter num ::\")) \n",
    "\n",
    "if(sqrt(a) == a ** 0.5 ):\n",
    "    print(\"Perfect Square\")\n",
    "else:\n",
    "    print(\"Not perfect Square\")"
   ]
  },
  {
   "cell_type": "code",
   "execution_count": 112,
   "metadata": {},
   "outputs": [
    {
     "name": "stdout",
     "output_type": "stream",
     "text": [
      "enter num ::16\n",
      "Perfect Square\n"
     ]
    }
   ],
   "source": [
    "from math import sqrt\n",
    "a = int(input(\"enter num ::\")) \n",
    "a2 = sqrt(a)\n",
    "if(a2 == int(a2) ):\n",
    "    print(\"Perfect Square\")\n",
    "else:\n",
    "    print(\"Not perfect Square\")"
   ]
  },
  {
   "cell_type": "code",
   "execution_count": 113,
   "metadata": {},
   "outputs": [
    {
     "data": {
      "text/plain": [
       "4.0"
      ]
     },
     "execution_count": 113,
     "metadata": {},
     "output_type": "execute_result"
    }
   ],
   "source": [
    "sqrt(a)"
   ]
  },
  {
   "cell_type": "code",
   "execution_count": 114,
   "metadata": {},
   "outputs": [
    {
     "data": {
      "text/plain": [
       "0.8284271247461903"
      ]
     },
     "execution_count": 114,
     "metadata": {},
     "output_type": "execute_result"
    }
   ],
   "source": [
    "sqrt(8)%1"
   ]
  },
  {
   "cell_type": "code",
   "execution_count": null,
   "metadata": {},
   "outputs": [],
   "source": []
  },
  {
   "cell_type": "code",
   "execution_count": 6,
   "metadata": {},
   "outputs": [
    {
     "data": {
      "text/plain": [
       "array([[33., 39., 43.],\n",
       "       [33., 25., 49.],\n",
       "       [69., 86., 88.]])"
      ]
     },
     "execution_count": 6,
     "metadata": {},
     "output_type": "execute_result"
    }
   ],
   "source": [
    "import numpy as np\n",
    "\n",
    "a = np.array([[3,4],[7,2],[5,9]])\n",
    "b = np.array([[3,1,5],[6,9,7]])\n",
    "\n",
    "\n",
    "result = np.zeros((3,3))\n",
    "for i in range(len(a)):\n",
    "    for j in range(len(b[0])):\n",
    "        for k in range(len(b)):\n",
    "            result[i][j] += a[i][k]*b[k][j]\n",
    "            \n",
    "result"
   ]
  },
  {
   "cell_type": "code",
   "execution_count": 116,
   "metadata": {},
   "outputs": [
    {
     "name": "stdout",
     "output_type": "stream",
     "text": [
      "12\n",
      "36\n",
      "16\n",
      "14\n",
      "13\n",
      "17\n",
      "19\n",
      "13\n",
      "16\n",
      "15\n",
      "23\n",
      "3\n"
     ]
    },
    {
     "data": {
      "text/plain": [
       "(array([[1172.,  744.],\n",
       "        [ 865.,  428.]]),\n",
       " array([[12., 36., 16.],\n",
       "        [14., 13., 17.]]),\n",
       " array([[19., 13.],\n",
       "        [16., 15.],\n",
       "        [23.,  3.]]))"
      ]
     },
     "execution_count": 116,
     "metadata": {},
     "output_type": "execute_result"
    }
   ],
   "source": [
    "import numpy as np\n",
    "\n",
    "A = np.zeros((2,3))\n",
    "B = np.zeros((3,2))\n",
    "\n",
    "for i in range(A.shape[0]):\n",
    "    for j in range(A.shape[1]):\n",
    "        A[i,j] = int(input())\n",
    "\n",
    "for i in range(B.shape[0]):\n",
    "    for j in range(B.shape[1]):\n",
    "        B[i,j] = int(input())\n",
    "        \n",
    "\n",
    "result = np.zeros((A.shape[0],B.shape[1]))\n",
    "\n",
    "for i in range(A.shape[0]):\n",
    "    for j in range(B.shape[1]):\n",
    "        for k in range(B.shape[0]):\n",
    "            result[i][j] += A[i][k]*B[k][j]\n",
    "            \n",
    "result,A,B"
   ]
  },
  {
   "cell_type": "code",
   "execution_count": 117,
   "metadata": {},
   "outputs": [
    {
     "data": {
      "text/plain": [
       "array([[1., 1.],\n",
       "       [1., 1.],\n",
       "       [1., 1.],\n",
       "       [1., 1.],\n",
       "       [1., 1.]])"
      ]
     },
     "execution_count": 117,
     "metadata": {},
     "output_type": "execute_result"
    }
   ],
   "source": [
    "np.ones((5,2))"
   ]
  },
  {
   "cell_type": "code",
   "execution_count": 8,
   "metadata": {},
   "outputs": [
    {
     "data": {
      "text/plain": [
       "array([['ronit', 'ronit', 'ronit'],\n",
       "       ['ronit', 'ronit', 'ronit']], dtype='<U5')"
      ]
     },
     "execution_count": 8,
     "metadata": {},
     "output_type": "execute_result"
    }
   ],
   "source": [
    "np.full((2,3),'ronit')"
   ]
  },
  {
   "cell_type": "code",
   "execution_count": 118,
   "metadata": {},
   "outputs": [
    {
     "data": {
      "text/plain": [
       "array([[0.65167008, 0.39987239, 0.76352459],\n",
       "       [0.68181681, 0.19001222, 0.84774836],\n",
       "       [0.81404519, 0.92064247, 0.06993843],\n",
       "       [0.0348025 , 0.23798118, 0.0866356 ]])"
      ]
     },
     "execution_count": 118,
     "metadata": {},
     "output_type": "execute_result"
    }
   ],
   "source": [
    "np.random.rand(4,3)"
   ]
  },
  {
   "cell_type": "code",
   "execution_count": 10,
   "metadata": {},
   "outputs": [
    {
     "data": {
      "text/plain": [
       "array([[4999, 5000, 4999],\n",
       "       [4999, 4999, 5000],\n",
       "       [5000, 4999, 5000]])"
      ]
     },
     "execution_count": 10,
     "metadata": {},
     "output_type": "execute_result"
    }
   ],
   "source": [
    "np.random.randint(4999,5001,size = (3,3))"
   ]
  },
  {
   "cell_type": "code",
   "execution_count": 12,
   "metadata": {},
   "outputs": [
    {
     "data": {
      "text/plain": [
       "array([[17, 38, 96],\n",
       "       [ 6, 11, 65],\n",
       "       [18, 67, 35]])"
      ]
     },
     "execution_count": 12,
     "metadata": {},
     "output_type": "execute_result"
    }
   ],
   "source": [
    "np.random.randint(100,size = (3,3))"
   ]
  },
  {
   "cell_type": "code",
   "execution_count": 13,
   "metadata": {},
   "outputs": [
    {
     "data": {
      "text/plain": [
       "array([[1., 0., 0., 0., 0.],\n",
       "       [0., 1., 0., 0., 0.],\n",
       "       [0., 0., 1., 0., 0.],\n",
       "       [0., 0., 0., 1., 0.],\n",
       "       [0., 0., 0., 0., 1.]])"
      ]
     },
     "execution_count": 13,
     "metadata": {},
     "output_type": "execute_result"
    }
   ],
   "source": [
    "np.identity(5)"
   ]
  },
  {
   "cell_type": "code",
   "execution_count": 14,
   "metadata": {},
   "outputs": [],
   "source": [
    "c = np.identity(3)"
   ]
  },
  {
   "cell_type": "code",
   "execution_count": 15,
   "metadata": {},
   "outputs": [
    {
     "data": {
      "text/plain": [
       "array([[33, 39, 43],\n",
       "       [33, 25, 49],\n",
       "       [69, 86, 88]])"
      ]
     },
     "execution_count": 15,
     "metadata": {},
     "output_type": "execute_result"
    }
   ],
   "source": [
    "np.matmul(a,b)"
   ]
  },
  {
   "cell_type": "code",
   "execution_count": 16,
   "metadata": {},
   "outputs": [
    {
     "data": {
      "text/plain": [
       "1.0"
      ]
     },
     "execution_count": 16,
     "metadata": {},
     "output_type": "execute_result"
    }
   ],
   "source": [
    "np.linalg.det(c)"
   ]
  },
  {
   "cell_type": "code",
   "execution_count": 17,
   "metadata": {},
   "outputs": [
    {
     "data": {
      "text/plain": [
       "array([[3, 4],\n",
       "       [7, 2],\n",
       "       [5, 9]])"
      ]
     },
     "execution_count": 17,
     "metadata": {},
     "output_type": "execute_result"
    }
   ],
   "source": [
    "a"
   ]
  },
  {
   "cell_type": "code",
   "execution_count": 18,
   "metadata": {},
   "outputs": [
    {
     "data": {
      "text/plain": [
       "(3, 2)"
      ]
     },
     "execution_count": 18,
     "metadata": {},
     "output_type": "execute_result"
    }
   ],
   "source": [
    "a.shape"
   ]
  },
  {
   "cell_type": "code",
   "execution_count": 19,
   "metadata": {},
   "outputs": [],
   "source": [
    "ashape = a.shape"
   ]
  },
  {
   "cell_type": "code",
   "execution_count": 20,
   "metadata": {},
   "outputs": [
    {
     "data": {
      "text/plain": [
       "2"
      ]
     },
     "execution_count": 20,
     "metadata": {},
     "output_type": "execute_result"
    }
   ],
   "source": [
    "ashape[1]"
   ]
  },
  {
   "cell_type": "markdown",
   "metadata": {},
   "source": [
    "### Leap Year Problem"
   ]
  },
  {
   "cell_type": "code",
   "execution_count": 21,
   "metadata": {},
   "outputs": [
    {
     "name": "stdout",
     "output_type": "stream",
     "text": [
      "False\n",
      "True\n",
      "False\n",
      "True\n",
      "False\n"
     ]
    }
   ],
   "source": [
    "def checkleapyear(year):\n",
    "    if year%400 == 0:\n",
    "        return True\n",
    "    elif year%100 == 0:\n",
    "        return False\n",
    "    elif year%4 == 0:\n",
    "        return True\n",
    "    else:\n",
    "        return False\n",
    "    \n",
    "print(checkleapyear(2015))\n",
    "print(checkleapyear(2000))\n",
    "print(checkleapyear(2018))\n",
    "print(checkleapyear(2008))\n",
    "print(checkleapyear(1900))"
   ]
  },
  {
   "cell_type": "code",
   "execution_count": 22,
   "metadata": {},
   "outputs": [
    {
     "name": "stdout",
     "output_type": "stream",
     "text": [
      "The cartesian product using repeat:\n",
      "[(1, 1), (1, 2), (2, 1), (2, 2)]\n",
      "[(1, 3), (1, 4), (2, 3), (2, 4)]\n",
      "\n",
      "The cartesian product of the containers:\n",
      "[('geeks', '2'), ('for', '2'), ('geeks', '2')]\n",
      "\n",
      "The cartesian product of the containers:\n",
      "[('A', 3), ('A', 4), ('B', 3), ('B', 4)]\n"
     ]
    }
   ],
   "source": [
    "from itertools import product  \n",
    "    \n",
    "print(\"The cartesian product using repeat:\")  \n",
    "print(list(product([1, 2], repeat = 2)))  \n",
    "print(list(product([1, 2],[3,4])))  \n",
    "print()  \n",
    "    \n",
    "print(\"The cartesian product of the containers:\")  \n",
    "print(list(product(['geeks', 'for', 'geeks'], '2')))  \n",
    "print()  \n",
    "    \n",
    "print(\"The cartesian product of the containers:\")  \n",
    "print(list(product('AB', [3, 4]))) "
   ]
  },
  {
   "cell_type": "code",
   "execution_count": 122,
   "metadata": {},
   "outputs": [
    {
     "name": "stdout",
     "output_type": "stream",
     "text": [
      "All the permutations of the given list is:\n",
      "[(1, 'geeks'), ('geeks', 1)]\n",
      "\n",
      "All the permutations of the given string is:\n",
      "['ronit', 'ronti', 'roint', 'roitn', 'rotni', 'rotin', 'rnoit', 'rnoti', 'rniot', 'rnito', 'rntoi', 'rntio', 'riont', 'riotn', 'rinot', 'rinto', 'riton', 'ritno', 'rtoni', 'rtoin', 'rtnoi', 'rtnio', 'rtion', 'rtino', 'ornit', 'ornti', 'orint', 'oritn', 'ortni', 'ortin', 'onrit', 'onrti', 'onirt', 'onitr', 'ontri', 'ontir', 'oirnt', 'oirtn', 'oinrt', 'ointr', 'oitrn', 'oitnr', 'otrni', 'otrin', 'otnri', 'otnir', 'otirn', 'otinr', 'nroit', 'nroti', 'nriot', 'nrito', 'nrtoi', 'nrtio', 'norit', 'norti', 'noirt', 'noitr', 'notri', 'notir', 'nirot', 'nirto', 'niort', 'niotr', 'nitro', 'nitor', 'ntroi', 'ntrio', 'ntori', 'ntoir', 'ntiro', 'ntior', 'iront', 'irotn', 'irnot', 'irnto', 'irton', 'irtno', 'iornt', 'iortn', 'ionrt', 'iontr', 'iotrn', 'iotnr', 'inrot', 'inrto', 'inort', 'inotr', 'intro', 'intor', 'itron', 'itrno', 'itorn', 'itonr', 'itnro', 'itnor', 'troni', 'troin', 'trnoi', 'trnio', 'trion', 'trino', 'torni', 'torin', 'tonri', 'tonir', 'toirn', 'toinr', 'tnroi', 'tnrio', 'tnori', 'tnoir', 'tniro', 'tnior', 'tiron', 'tirno', 'tiorn', 'tionr', 'tinro', 'tinor']\n",
      "120\n",
      "All the permutations of the given container is:\n",
      "[(0, 1), (0, 2), (1, 0), (1, 2), (2, 0), (2, 1)]\n"
     ]
    }
   ],
   "source": [
    "# import the product function from itertools module \n",
    "from itertools import permutations \n",
    "\n",
    "print (\"All the permutations of the given list is:\") \n",
    "print (list(permutations([1, 'geeks']))) \n",
    "print() \n",
    "# Terminating iterators \n",
    "print (\"All the permutations of the given string is:\") \n",
    "peronit = list(''.join(x) for x in permutations('ronit',5))\n",
    "print (peronit) \n",
    "print(len(peronit)) \n",
    "\n",
    "print (\"All the permutations of the given container is:\") \n",
    "print(list(permutations(range(3), 2))) \n"
   ]
  },
  {
   "cell_type": "code",
   "execution_count": null,
   "metadata": {},
   "outputs": [],
   "source": [
    "# import combinations from itertools module  \n",
    "    \n",
    "from itertools import combinations  \n",
    "    \n",
    "print (\"All the combination of list in sorted order(without replacement) is:\")   \n",
    "print(list(combinations(['A', 2], 2)))  \n",
    "print()  \n",
    "    \n",
    "print (\"All the combination of string in sorted order(without replacement) is:\")  \n",
    "print(list(combinations('ABB', 2)))  \n",
    "print()  \n",
    "    \n",
    "print (\"All the combination of list in sorted order(without replacement) is:\")  \n",
    "print(list(combinations(range(3), 2)))  "
   ]
  },
  {
   "cell_type": "code",
   "execution_count": null,
   "metadata": {},
   "outputs": [],
   "source": [
    "# import combinations from itertools module  \n",
    "    \n",
    "from itertools import combinations_with_replacement  \n",
    "    \n",
    "print (\"All the combination of string in sorted order(with replacement) is:\")  \n",
    "print(list(combinations_with_replacement(\"AB\", 5)))  \n",
    "print()  \n",
    "    \n",
    "print (\"All the combination of list in sorted order(with replacement) is:\")  \n",
    "print(list(combinations_with_replacement([1, 2], 2)))  \n",
    "print()  \n",
    "    \n",
    "print (\"All the combination of container in sorted order(with replacement) is:\")  \n",
    "print(list(combinations_with_replacement(range(2), 1))) "
   ]
  },
  {
   "cell_type": "code",
   "execution_count": 123,
   "metadata": {},
   "outputs": [
    {
     "name": "stdout",
     "output_type": "stream",
     "text": [
      "5\n",
      "4\n",
      "5\n",
      "3\n",
      "4\n",
      "5\n",
      "5\n",
      "4\n",
      "4\n",
      "47\n",
      "7\n",
      "7\n",
      "7\n",
      "7\n",
      "7\n"
     ]
    }
   ],
   "source": [
    "import numpy as np\n",
    "\n",
    "L1 = []\n",
    "L2 = []\n",
    "L3 = []\n",
    "\n",
    "for i in range(3):\n",
    "    value = int(input())\n",
    "    if value>=1 and value <= 100:\n",
    "        L1.append(int(input()))\n",
    "    else:\n",
    "        print(\"invalid value\")\n",
    "    \n",
    "    \n",
    "    \n",
    "for i in range(3):\n",
    "    value = int(input())\n",
    "    if value>=1 and value <= 100:\n",
    "        L2.append(value)\n",
    "    else:\n",
    "        print(\"invalid value\")\n",
    "    \n",
    "\n",
    "for i in range(3):\n",
    "    value = int(input())\n",
    "    if value>=1 and value <= 100:\n",
    "        L3.append(int(input()))\n",
    "    else:\n",
    "        print(\"invalid value\")\n",
    "        \n",
    "\n",
    "A1 = np.array(L1)\n",
    "A2 = np.array(L2)\n",
    "A3 = np.array(L3)\n"
   ]
  },
  {
   "cell_type": "code",
   "execution_count": 124,
   "metadata": {},
   "outputs": [
    {
     "name": "stdout",
     "output_type": "stream",
     "text": [
      "Time Estimated: 25 minutes\n"
     ]
    }
   ],
   "source": [
    "def weight(w):\n",
    "    if w in range(7001):\n",
    "        if w in range(1,2001):\n",
    "            print(\"Time Estimated: 25 minutes\")\n",
    "        elif w in range(2001,4001):\n",
    "            print(\"Time Estimated: 35 minutes\")\n",
    "        elif w in range(4001,7001):\n",
    "            print(\"Time Estimated: 45 minutes\")\n",
    "        else:\n",
    "            print(\"Time Estimated: 0 minutes\")\n",
    "    else:\n",
    "        print(\"INVALID INPUT\")\n",
    "        \n",
    "weight(2000)"
   ]
  },
  {
   "cell_type": "code",
   "execution_count": 125,
   "metadata": {},
   "outputs": [
    {
     "name": "stdout",
     "output_type": "stream",
     "text": [
      "Time Estimated: 0 minutes\n"
     ]
    }
   ],
   "source": [
    "weight(0)"
   ]
  },
  {
   "cell_type": "code",
   "execution_count": 126,
   "metadata": {},
   "outputs": [
    {
     "name": "stdout",
     "output_type": "stream",
     "text": [
      "INVALID INPUT\n"
     ]
    }
   ],
   "source": [
    "weight(7001)"
   ]
  },
  {
   "cell_type": "code",
   "execution_count": null,
   "metadata": {},
   "outputs": [],
   "source": [
    "\n",
    "\n",
    "input_text = input()\n",
    "\n",
    "offset = int(input())\n",
    "\n",
    "output_text = str()\n",
    "\n",
    "def replacement(string,offset):\n",
    "    refstr = 'abcdefghijklmnopqrstuvwxyz'\n",
    "    case = string.islower()\n",
    "    string = string.lower()\n",
    "    n = refstr.find(string)\n",
    "    if n==-1:\n",
    "        return string\n",
    "    n_offset = n + offset\n",
    "    if n_offset > 25:\n",
    "        n_offset = n_offset - 26\n",
    "    if case:\n",
    "        return refstr[n_offset]\n",
    "    else:\n",
    "        return refstr.upper()[n_offset]\n",
    "\n",
    "for i in input_text:\n",
    "    output_text += replacement(i,offset)\n",
    "    \n",
    "print(output_text)\n",
    "\n",
    "\n",
    "    "
   ]
  },
  {
   "cell_type": "code",
   "execution_count": 128,
   "metadata": {},
   "outputs": [
    {
     "data": {
      "text/plain": [
       "[0, 1, 2]"
      ]
     },
     "execution_count": 128,
     "metadata": {},
     "output_type": "execute_result"
    }
   ],
   "source": [
    "(list(range(3)))"
   ]
  },
  {
   "cell_type": "code",
   "execution_count": 134,
   "metadata": {},
   "outputs": [
    {
     "name": "stdout",
     "output_type": "stream",
     "text": [
      "95\n",
      "92\n",
      "95\n",
      "90\n",
      "90\n",
      "90\n",
      "92\n",
      "90\n",
      "92\n"
     ]
    },
    {
     "data": {
      "text/plain": [
       "[(1, 92.33333333333333), (3, 92.33333333333333)]"
      ]
     },
     "execution_count": 134,
     "metadata": {},
     "output_type": "execute_result"
    }
   ],
   "source": [
    "def maxavg(l1,l2,l3):\n",
    "    avg1 = sum(l1)/3\n",
    "    avg2 = sum(l2)/3\n",
    "    avg3 = sum(l3)/3\n",
    "    maxavg = max([avg1,avg2,avg3])\n",
    "    avgvalue = [avg1,avg2,avg3]\n",
    "    result = []\n",
    "    for i in range(3):\n",
    "        if avgvalue[i] == maxavg:\n",
    "            result.append((i+1,avgvalue[i]))\n",
    "    return result\n",
    "\n",
    "l1 = []\n",
    "l2 = []\n",
    "l3 = []\n",
    "\n",
    "for i in range(9):\n",
    "    if i % 3 == 0:\n",
    "        l1.append(int(input()))\n",
    "    elif i % 3 == 1:\n",
    "        l2.append(int(input()))\n",
    "    else:\n",
    "        l3.append(int(input()))\n",
    "maxavg(l1,l2,l3)"
   ]
  },
  {
   "cell_type": "code",
   "execution_count": 139,
   "metadata": {},
   "outputs": [
    {
     "data": {
      "text/plain": [
       "'fghijklmnopqrstuvwxyzabcdeWTSNYWFOXFMZFGHIJKLMNOPQRSTUVWXYZABCDE5678901234'"
      ]
     },
     "execution_count": 139,
     "metadata": {},
     "output_type": "execute_result"
    }
   ],
   "source": [
    "def cipher(word,key):\n",
    "    result = str()\n",
    "    for i in word:\n",
    "        if 64 < ord(i) < 91:\n",
    "            if ord(i) + key > 90:\n",
    "                result += chr(ord(i) + key - 26)\n",
    "            else:\n",
    "                result += chr(ord(i) + key)\n",
    "        elif 96 < ord(i) < 123:\n",
    "            if ord(i) + key > 122:\n",
    "                result += chr(ord(i) + key - 26)\n",
    "            else:\n",
    "                result += chr(ord(i) + key)\n",
    "        elif 47 < ord(i) < 58:\n",
    "            if ord(i) + key > 57:\n",
    "                result += chr(ord(i) + key - 10)\n",
    "            else:\n",
    "                result += chr(ord(i) + key)\n",
    "        else:\n",
    "            result += i\n",
    "    return result\n",
    "\n",
    "\n",
    "cipher('abcdefghijklmnopqrstuvwxyzRONITRAJSAHUABCDEFGHIJKLMNOPQRSTUVWXYZ0123456789',5)"
   ]
  },
  {
   "cell_type": "code",
   "execution_count": 141,
   "metadata": {},
   "outputs": [
    {
     "data": {
      "text/plain": [
       "'Bmm uif cftu'"
      ]
     },
     "execution_count": 141,
     "metadata": {},
     "output_type": "execute_result"
    }
   ],
   "source": [
    "cipher('All the best',1)"
   ]
  },
  {
   "cell_type": "code",
   "execution_count": 145,
   "metadata": {},
   "outputs": [
    {
     "name": "stdout",
     "output_type": "stream",
     "text": [
      "Please enter interior Wall Number:6\n",
      "Please enter exterior Wall Number:3\n",
      "12.3\n",
      "12.3\n",
      "12.3\n",
      "15.2\n",
      "15.2\n",
      "15.2\n",
      "10.1\n",
      "10.1\n",
      "10.1\n",
      "the total price is : 1848.5999999999997\n"
     ]
    }
   ],
   "source": [
    "interior_wall_count = int(input(\"Please enter interior Wall Number:\"))\n",
    "exterior_wall_count = int(input(\"Please enter exterior Wall Number:\"))\n",
    "\n",
    "interior_wall = []\n",
    "exterior_wall = []\n",
    "\n",
    "\n",
    "for i in range(interior_wall_count):\n",
    "    interior_wall.append(float(input()))\n",
    "\n",
    "for i in range(exterior_wall_count):\n",
    "    exterior_wall.append(float(input()))\n",
    "    \n",
    "    \n",
    "interior_total = sum(map(lambda x: x*18,interior_wall))\n",
    "exterior_total = sum(map(lambda x: x*12,exterior_wall))\n",
    "\n",
    "print(\"the total price is : {}\".format(interior_total+exterior_total))"
   ]
  },
  {
   "cell_type": "code",
   "execution_count": 142,
   "metadata": {},
   "outputs": [],
   "source": [
    "for i in range(0):\n",
    "    print(i)"
   ]
  },
  {
   "cell_type": "code",
   "execution_count": 143,
   "metadata": {},
   "outputs": [
    {
     "name": "stdout",
     "output_type": "stream",
     "text": [
      "0\n"
     ]
    }
   ],
   "source": [
    "for i in range(1):\n",
    "    print(i)"
   ]
  },
  {
   "cell_type": "code",
   "execution_count": 144,
   "metadata": {},
   "outputs": [
    {
     "data": {
      "text/plain": [
       "0"
      ]
     },
     "execution_count": 144,
     "metadata": {},
     "output_type": "execute_result"
    }
   ],
   "source": [
    "sum(list())"
   ]
  },
  {
   "cell_type": "code",
   "execution_count": 146,
   "metadata": {},
   "outputs": [
    {
     "name": "stdout",
     "output_type": "stream",
     "text": [
      "GA\n",
      "NI\n",
      "25\n"
     ]
    }
   ],
   "source": [
    "\n",
    "Path = [800, 600, 750, 900, 1400, 1200, 1100, 1500]\n",
    "BusStops = [\"TH\", 'GA', \"IC\", \"HA\", \"TE\", \"LU\", \"NI\",\"CA\"]\n",
    "\n",
    "start = BusStops.index(input())\n",
    "stop = BusStops.index(input())\n",
    "\n",
    "if -1 in (start,stop):\n",
    "    print(\"INVALID INPUT\")\n",
    "\n",
    "if stop < start:\n",
    "    lresult = Path[start:]\n",
    "    l2 = Path[:stop]\n",
    "    lresult.extend(l2)\n",
    "else:\n",
    "    lresult =  Path[start:stop]\n",
    "    \n",
    "fare = sum(lresult)/200\n",
    "if fare != int(fare):\n",
    "    fare = int(fare)+1\n",
    "print(fare)"
   ]
  },
  {
   "cell_type": "code",
   "execution_count": null,
   "metadata": {},
   "outputs": [],
   "source": [
    "start"
   ]
  },
  {
   "cell_type": "code",
   "execution_count": null,
   "metadata": {},
   "outputs": [],
   "source": [
    "stop"
   ]
  },
  {
   "cell_type": "code",
   "execution_count": null,
   "metadata": {},
   "outputs": [],
   "source": [
    "https://prepinsta.com/tcs-coding-questions/"
   ]
  },
  {
   "cell_type": "code",
   "execution_count": null,
   "metadata": {},
   "outputs": [],
   "source": [
    "n = []\n",
    "\n",
    "for i in range(5):\n",
    "    n.append(int(input()))\n",
    "    \n",
    "t1 = n[3]/n[1]\n",
    "\n",
    "t2 = n[4]/n[2]\n",
    "\n",
    "if int(t1) == t1 or int(t2) == t2:\n",
    "    print(n[0]-t1-t2)\n",
    "else:\n",
    "    print(n[0]-t1-t2-1)"
   ]
  },
  {
   "cell_type": "code",
   "execution_count": null,
   "metadata": {},
   "outputs": [],
   "source": [
    "enter_parent_member = input(\"please the parent name:\")\n",
    "parent_commission = 0\n",
    "child_member = input(\"Comma separated child members\").split(',')\n",
    "\n",
    "if len(child_member)==0:\n",
    "    parent_commission = 0\n",
    "else:\n",
    "    for i in child_member:\n",
    "        parent_commission += 500\n",
    "\n",
    "# Output\n",
    "\n",
    "print(\"TOTAL MEMBERS: {}\".format(len(child_member)+1))\n",
    "print(\"COMMISSION DETAILS\")\n",
    "print(enter_parent_member,\": \",parent_commission)\n",
    "\n",
    "for i in child_member:\n",
    "    print(i,\": \",250)"
   ]
  },
  {
   "cell_type": "code",
   "execution_count": 149,
   "metadata": {},
   "outputs": [
    {
     "name": "stdout",
     "output_type": "stream",
     "text": [
      "Welcome to CCD\n",
      "J\n",
      "6\n",
      "INVALID INPUT\n"
     ]
    }
   ],
   "source": [
    "menu_list = {'c':['Espresso Coffee','Cappuccino Coffee','Latte Coffee'],\n",
    "            't':['Plain Tea',\"Assam Tea\",'Ginger Tea','Cardamom Tea','Masala Tea','Lemon Tea','Green Tea','Organic Darjeeling Tea'],\n",
    "            's':['Hot and Sour Soup','Veg Corn Soup','Tomato Soup','Spicy Tomato Soup'],\n",
    "            'b':['Hot Chocolate Drink','Badam Drink','Badam-Pista Drink']}\n",
    "\n",
    "print(\"Welcome to CCD\")\n",
    "main_menu = input().lower()\n",
    "sub_menu = input()\n",
    "\n",
    "try:\n",
    "    print('Enjoy your ',menu_list[main_menu][int(sub_menu)-1])\n",
    "except:\n",
    "    print(\"INVALID INPUT\")\n",
    "    "
   ]
  },
  {
   "cell_type": "code",
   "execution_count": 150,
   "metadata": {},
   "outputs": [
    {
     "name": "stdout",
     "output_type": "stream",
     "text": [
      "Enter the age:15\n",
      "Enter the age:63\n",
      "Enter the age:25\n",
      "Enter the age:46\n",
      "Enter the age:13\n",
      "Enter the age:18\n",
      "Enter the age:\n",
      "1800\n"
     ]
    }
   ],
   "source": [
    "\n",
    "age_list = []\n",
    "\n",
    "try:\n",
    "    for i in range(20):\n",
    "        m = input(\"Enter the age:\")\n",
    "\n",
    "        if m == '':\n",
    "            break\n",
    "        elif int(m) > 120 or int(m) <= 0:\n",
    "            raise Exception(\"INVALID INPUT\")\n",
    "        else:\n",
    "            age_list.append(int(m))\n",
    "    def fee_calculator(age):\n",
    "        if age < 17:\n",
    "            return 200\n",
    "        elif 17 <= age < 40:\n",
    "            return 400\n",
    "        else:\n",
    "            return 300\n",
    "\n",
    "    fee_list = list(map(fee_calculator,age_list))\n",
    "    # print(list(f for f in fee_list))\n",
    "    total_fees = sum(fee_list)\n",
    "\n",
    "    print(total_fees)\n",
    "\n",
    "except:\n",
    "    print(\"INVALID INPUT\")\n",
    "#     exit()\n",
    "        \n",
    "\n"
   ]
  },
  {
   "cell_type": "code",
   "execution_count": 152,
   "metadata": {},
   "outputs": [
    {
     "data": {
      "text/plain": [
       "[200, 300, 400, 300, 200, 400]"
      ]
     },
     "execution_count": 152,
     "metadata": {},
     "output_type": "execute_result"
    }
   ],
   "source": [
    "list(fee_list)"
   ]
  },
  {
   "cell_type": "code",
   "execution_count": 160,
   "metadata": {},
   "outputs": [
    {
     "ename": "SyntaxError",
     "evalue": "invalid syntax (<ipython-input-160-c7cdd08b2aeb>, line 1)",
     "output_type": "error",
     "traceback": [
      "\u001b[0;36m  File \u001b[0;32m\"<ipython-input-160-c7cdd08b2aeb>\"\u001b[0;36m, line \u001b[0;32m1\u001b[0m\n\u001b[0;31m    c = lambda x,y: x if x > y\u001b[0m\n\u001b[0m                              ^\u001b[0m\n\u001b[0;31mSyntaxError\u001b[0m\u001b[0;31m:\u001b[0m invalid syntax\n"
     ]
    }
   ],
   "source": [
    "c = lambda x,y: x if x > y\n"
   ]
  },
  {
   "cell_type": "code",
   "execution_count": 162,
   "metadata": {},
   "outputs": [
    {
     "data": {
      "text/plain": [
       "[400, 400]"
      ]
     },
     "execution_count": 162,
     "metadata": {},
     "output_type": "execute_result"
    }
   ],
   "source": [
    "c = lambda x: x >= 400\n",
    "list(filter(c, fee_list))"
   ]
  },
  {
   "cell_type": "code",
   "execution_count": 153,
   "metadata": {},
   "outputs": [
    {
     "data": {
      "text/plain": [
       "1800"
      ]
     },
     "execution_count": 153,
     "metadata": {},
     "output_type": "execute_result"
    }
   ],
   "source": [
    "total_fees"
   ]
  },
  {
   "cell_type": "code",
   "execution_count": 15,
   "metadata": {},
   "outputs": [
    {
     "name": "stdout",
     "output_type": "stream",
     "text": [
      "Please enter the input: 89\n",
      "Number is prime\n"
     ]
    }
   ],
   "source": [
    "n = int(input(\"Please enter the input: \"))\n",
    "\n",
    "if n < 0:\n",
    "    print(\"please enter the positive number\")\n",
    "else:\n",
    "    if n < 2:\n",
    "        print(\"Number is not prime\")\n",
    "        \n",
    "    else:\n",
    "        for i in range(2,n):\n",
    "            if n % i == 0:\n",
    "                print(\"Number is not Prime\")\n",
    "                break\n",
    "        else:\n",
    "            print(\"Number is prime\")"
   ]
  },
  {
   "cell_type": "code",
   "execution_count": 165,
   "metadata": {},
   "outputs": [
    {
     "name": "stdout",
     "output_type": "stream",
     "text": [
      "168 [2, 3, 5, 7, 11, 13, 17, 19, 23, 29, 31, 37, 41, 43, 47, 53, 59, 61, 67, 71, 73, 79, 83, 89, 97, 101, 103, 107, 109, 113, 127, 131, 137, 139, 149, 151, 157, 163, 167, 173, 179, 181, 191, 193, 197, 199, 211, 223, 227, 229, 233, 239, 241, 251, 257, 263, 269, 271, 277, 281, 283, 293, 307, 311, 313, 317, 331, 337, 347, 349, 353, 359, 367, 373, 379, 383, 389, 397, 401, 409, 419, 421, 431, 433, 439, 443, 449, 457, 461, 463, 467, 479, 487, 491, 499, 503, 509, 521, 523, 541, 547, 557, 563, 569, 571, 577, 587, 593, 599, 601, 607, 613, 617, 619, 631, 641, 643, 647, 653, 659, 661, 673, 677, 683, 691, 701, 709, 719, 727, 733, 739, 743, 751, 757, 761, 769, 773, 787, 797, 809, 811, 821, 823, 827, 829, 839, 853, 857, 859, 863, 877, 881, 883, 887, 907, 911, 919, 929, 937, 941, 947, 953, 967, 971, 977, 983, 991, 997]\n"
     ]
    }
   ],
   "source": [
    "def primecheck(n):\n",
    "    if n > 1:\n",
    "        for i in range(2,n):\n",
    "            if n % i == 0:\n",
    "                return False\n",
    "        else:\n",
    "            return True\n",
    "    else:\n",
    "        return False\n",
    "\n",
    "l = []\n",
    "for i in range(1000):\n",
    "    if primecheck(i):\n",
    "        l.append(i)\n",
    "print(len(l),l)"
   ]
  },
  {
   "cell_type": "code",
   "execution_count": 168,
   "metadata": {},
   "outputs": [],
   "source": [
    "\n",
    "def find_num(n):\n",
    "    n_series = [0,0]\n",
    "\n",
    "    for i in range(2,n):\n",
    "        if i%2 == 0:\n",
    "            n_series.append(n_series[(i-2)] + 7)\n",
    "        else:\n",
    "            n_series.append(n_series[(i-2)] + 6)\n",
    "\n",
    "    print(n_series[n-1])\n"
   ]
  },
  {
   "cell_type": "code",
   "execution_count": 169,
   "metadata": {},
   "outputs": [
    {
     "name": "stdout",
     "output_type": "stream",
     "text": [
      "48\n"
     ]
    }
   ],
   "source": [
    "find_num(18)"
   ]
  },
  {
   "cell_type": "code",
   "execution_count": 37,
   "metadata": {},
   "outputs": [],
   "source": [
    "def geo_num(n):\n",
    "    n_series = [1,1]\n",
    "\n",
    "    for i in range(2,n):\n",
    "        if i%2 == 0:\n",
    "            n_series.append(n_series[(i-2)] * 2)\n",
    "        else:\n",
    "            n_series.append(n_series[(i-2)] * 3)\n",
    "\n",
    "    print(n_series[-1])"
   ]
  },
  {
   "cell_type": "code",
   "execution_count": 38,
   "metadata": {},
   "outputs": [
    {
     "name": "stdout",
     "output_type": "stream",
     "text": [
      "2187\n"
     ]
    }
   ],
   "source": [
    "geo_num(16)"
   ]
  },
  {
   "cell_type": "code",
   "execution_count": 170,
   "metadata": {},
   "outputs": [],
   "source": [
    "\n",
    "def find_num3(n):\n",
    "    n_series = [0,0]\n",
    "\n",
    "    for i in range(2,n):\n",
    "        if i%2 == 0:\n",
    "            n_series.append(n_series[(i-2)] + 2)\n",
    "        else:\n",
    "            n_series.append(n_series[(i-2)] + 1)\n",
    "\n",
    "    print(n_series[-1])"
   ]
  },
  {
   "cell_type": "code",
   "execution_count": 172,
   "metadata": {},
   "outputs": [
    {
     "name": "stdout",
     "output_type": "stream",
     "text": [
      "12\n"
     ]
    }
   ],
   "source": [
    "find_num3(13)"
   ]
  },
  {
   "cell_type": "code",
   "execution_count": 50,
   "metadata": {},
   "outputs": [
    {
     "name": "stdout",
     "output_type": "stream",
     "text": [
      "Ronir\n",
      "RaJA\n",
      "Sahu\n",
      "R%n%r#a#ASAHU\n"
     ]
    }
   ],
   "source": [
    "wordlist = []\n",
    "\n",
    "for i in range(3):\n",
    "    wordlist.append(input())\n",
    "\n",
    "vowel = ['a','e','i','o','u','A','E','I','O','U']\n",
    "result1 = str()\n",
    "result2 = str()\n",
    "\n",
    "for i in wordlist[0]:\n",
    "    if i in vowel:\n",
    "        result1 += '%'\n",
    "    else:\n",
    "        result1 += i\n",
    "wordlist[0] = result1\n",
    "\n",
    "for j in wordlist[1]:\n",
    "    if j in vowel:\n",
    "        result2 += j\n",
    "    else:\n",
    "        result2 += '#'\n",
    "\n",
    "wordlist[0] = result1\n",
    "wordlist[1] = result2\n",
    "        \n",
    "wordlist[2] = wordlist[2].upper()\n",
    "\n",
    "print(''.join(wordlist))"
   ]
  },
  {
   "cell_type": "code",
   "execution_count": 56,
   "metadata": {},
   "outputs": [],
   "source": [
    "\n",
    "def final_position(n):\n",
    "    initial_position = [0,0]\n",
    "\n",
    "    for i in range(1, n+1):\n",
    "        if i%5 == 1:\n",
    "            initial_position[0] += 10 * i\n",
    "        elif i%5 == 2:\n",
    "            initial_position[1] += 10 * i\n",
    "        elif i%5 == 3:\n",
    "            initial_position[0] -= 10 * i\n",
    "        elif i%5 == 4:\n",
    "            initial_position[1] -= 10 * i\n",
    "        else:\n",
    "            initial_position[0] += 10 * i\n",
    "            \n",
    "    print(initial_position)"
   ]
  },
  {
   "cell_type": "code",
   "execution_count": 57,
   "metadata": {},
   "outputs": [
    {
     "name": "stdout",
     "output_type": "stream",
     "text": [
      "[30, -20]\n"
     ]
    }
   ],
   "source": [
    "final_position(5)"
   ]
  },
  {
   "cell_type": "code",
   "execution_count": 59,
   "metadata": {},
   "outputs": [
    {
     "name": "stdout",
     "output_type": "stream",
     "text": [
      "[90, -20]\n"
     ]
    }
   ],
   "source": [
    "final_position(6)"
   ]
  },
  {
   "cell_type": "code",
   "execution_count": 67,
   "metadata": {},
   "outputs": [
    {
     "name": "stdout",
     "output_type": "stream",
     "text": [
      "Please Enter the number1A\n",
      "A 10\n",
      "1 17\n",
      "27\n"
     ]
    }
   ],
   "source": [
    "d = {'1':1,'2':2,'3':3,'4':4,'5':5,'6':6,'7':7,'8':8,'9':9,'A':10,'B':11,'C':12,'D':13,'E':14,'F':15,'G':16,'0':0}\n",
    "\n",
    "n = input('Please Enter the number').upper()\n",
    "\n",
    "decimal_value = 0\n",
    "j = 0\n",
    "for i in n[::-1]:\n",
    "    decimal_value += d[i]*(17**j)\n",
    "    print(i,d[i]*(17**j))\n",
    "    j += 1\n",
    "    \n",
    "print(decimal_value)"
   ]
  },
  {
   "cell_type": "code",
   "execution_count": 175,
   "metadata": {},
   "outputs": [
    {
     "name": "stdout",
     "output_type": "stream",
     "text": [
      "0 A a\n"
     ]
    }
   ],
   "source": [
    "print(chr(48),chr(65),chr(97))"
   ]
  },
  {
   "cell_type": "code",
   "execution_count": 123,
   "metadata": {},
   "outputs": [
    {
     "name": "stdout",
     "output_type": "stream",
     "text": [
      "1A\n",
      "26\n"
     ]
    }
   ],
   "source": [
    "num = input()\n",
    "print(int(num,16))"
   ]
  },
  {
   "cell_type": "code",
   "execution_count": 71,
   "metadata": {},
   "outputs": [
    {
     "name": "stdout",
     "output_type": "stream",
     "text": [
      "Please enter the number: 4567\n",
      "2\n"
     ]
    }
   ],
   "source": [
    "number = input('Please enter the number: ')\n",
    "a = int()\n",
    "b = int()\n",
    "j = 1\n",
    "for i in number:\n",
    "    if j%2 == 1:\n",
    "        a += int(i)\n",
    "    else:\n",
    "        b += int(i)\n",
    "    j += 1\n",
    "\n",
    "print(abs(a-b))"
   ]
  },
  {
   "cell_type": "code",
   "execution_count": 74,
   "metadata": {},
   "outputs": [
    {
     "name": "stdout",
     "output_type": "stream",
     "text": [
      "Enter the word: default\n",
      "The word is present in key words\n"
     ]
    }
   ],
   "source": [
    "key_list = ['break', 'case', 'continue', 'default', 'defer', 'else', 'for', 'func', 'goto', 'if', 'map', 'range', 'return', 'struct', 'type', 'var']\n",
    "\n",
    "word = input(\"Enter the word: \")\n",
    "\n",
    "if word in key_list:\n",
    "    print('The word is present in key words')\n",
    "else:\n",
    "    print('The word is not present in the keywords')"
   ]
  },
  {
   "cell_type": "code",
   "execution_count": 91,
   "metadata": {},
   "outputs": [],
   "source": [
    "def next_prime(n):\n",
    "    k = n + 1\n",
    "    while prime_check(k)==False:\n",
    "        k += 1\n",
    "    return(k)\n",
    "    \n",
    "def prime_check(k):\n",
    "    if k == 2:\n",
    "        return(True)\n",
    "    else:\n",
    "        for m in range(2,k):\n",
    "            if k%m == 0:\n",
    "                return False\n",
    "        else:\n",
    "            return True"
   ]
  },
  {
   "cell_type": "code",
   "execution_count": 78,
   "metadata": {},
   "outputs": [
    {
     "data": {
      "text/plain": [
       "False"
      ]
     },
     "execution_count": 78,
     "metadata": {},
     "output_type": "execute_result"
    }
   ],
   "source": [
    "True!=True"
   ]
  },
  {
   "cell_type": "code",
   "execution_count": 88,
   "metadata": {},
   "outputs": [
    {
     "data": {
      "text/plain": [
       "False"
      ]
     },
     "execution_count": 88,
     "metadata": {},
     "output_type": "execute_result"
    }
   ],
   "source": [
    "prime_check(30)"
   ]
  },
  {
   "cell_type": "code",
   "execution_count": 101,
   "metadata": {},
   "outputs": [
    {
     "data": {
      "text/plain": [
       "23"
      ]
     },
     "execution_count": 101,
     "metadata": {},
     "output_type": "execute_result"
    }
   ],
   "source": [
    "next_prime(21)"
   ]
  },
  {
   "cell_type": "code",
   "execution_count": 104,
   "metadata": {},
   "outputs": [],
   "source": [
    "def series_out(n):\n",
    "    ls = [1, 2, 1]\n",
    "\n",
    "    for i in range(3,n):\n",
    "        if i % 2 == 0:\n",
    "            ls.append(ls[i-2] + ls[i-4])\n",
    "        else:\n",
    "            ls.append(next_prime(ls[i-2]))\n",
    "    return(ls[-1])"
   ]
  },
  {
   "cell_type": "code",
   "execution_count": 105,
   "metadata": {},
   "outputs": [
    {
     "data": {
      "text/plain": [
       "17"
      ]
     },
     "execution_count": 105,
     "metadata": {},
     "output_type": "execute_result"
    }
   ],
   "source": [
    "series_out(14)"
   ]
  },
  {
   "cell_type": "code",
   "execution_count": 120,
   "metadata": {},
   "outputs": [],
   "source": [
    "def prime_all(n):\n",
    "    prime_list = []\n",
    "    if n < 2:\n",
    "        print(\"No Prime\")\n",
    "    elif n == 2:\n",
    "        prime_list.append(2)\n",
    "    else:\n",
    "        prime_list.append(2)\n",
    "        for i in range(3,n+1,2):\n",
    "            for j in prime_list:\n",
    "                if i % j == 0:\n",
    "                    break\n",
    "            else:\n",
    "                prime_list.append(i)\n",
    "    return prime_list,len(prime_list)"
   ]
  },
  {
   "cell_type": "code",
   "execution_count": 121,
   "metadata": {},
   "outputs": [
    {
     "data": {
      "text/plain": [
       "([2,\n",
       "  3,\n",
       "  5,\n",
       "  7,\n",
       "  11,\n",
       "  13,\n",
       "  17,\n",
       "  19,\n",
       "  23,\n",
       "  29,\n",
       "  31,\n",
       "  37,\n",
       "  41,\n",
       "  43,\n",
       "  47,\n",
       "  53,\n",
       "  59,\n",
       "  61,\n",
       "  67,\n",
       "  71,\n",
       "  73,\n",
       "  79,\n",
       "  83,\n",
       "  89,\n",
       "  97,\n",
       "  101],\n",
       " 26)"
      ]
     },
     "execution_count": 121,
     "metadata": {},
     "output_type": "execute_result"
    }
   ],
   "source": [
    "prime_all(101)"
   ]
  },
  {
   "cell_type": "code",
   "execution_count": 113,
   "metadata": {},
   "outputs": [
    {
     "name": "stdout",
     "output_type": "stream",
     "text": [
      "2\n",
      "2 is a prime number\n"
     ]
    }
   ],
   "source": [
    "def prime(n):\n",
    "    if n > 1:\n",
    "\n",
    "        for i in range(2, n):\n",
    "\n",
    "            if (n % i) == 0:\n",
    "\n",
    "                print(n, \"is not a prime number\")\n",
    "\n",
    "                break\n",
    "\n",
    "        else:\n",
    "\n",
    "            print(n, 'is a prime number')\n",
    "\n",
    "num = int(input())\n",
    "\n",
    "if (num > 0):\n",
    "\n",
    "    prime(num)\n",
    "\n",
    "else:\n",
    "\n",
    "    print('plese')"
   ]
  },
  {
   "cell_type": "code",
   "execution_count": 118,
   "metadata": {},
   "outputs": [
    {
     "name": "stdout",
     "output_type": "stream",
     "text": [
      "bye ronit\n",
      "hi\n"
     ]
    }
   ],
   "source": [
    "for i in range(2,2):\n",
    "    print('ronit')\n",
    "else:\n",
    "    print('bye ronit')\n",
    "print('hi')"
   ]
  },
  {
   "cell_type": "code",
   "execution_count": 124,
   "metadata": {},
   "outputs": [],
   "source": [
    "def diffsum(n,m):\n",
    "    divisible_list = []\n",
    "    non_divisible_list = []\n",
    "    for i in range(1,m+1):\n",
    "        if i%n == 0:\n",
    "            divisible_list.append(i)\n",
    "        else:\n",
    "            non_divisible_list.append(i)\n",
    "    \n",
    "    result = sum(non_divisible_list) - sum(divisible_list)\n",
    "    \n",
    "    return result"
   ]
  },
  {
   "cell_type": "code",
   "execution_count": 125,
   "metadata": {},
   "outputs": [
    {
     "data": {
      "text/plain": [
       "90"
      ]
     },
     "execution_count": 125,
     "metadata": {},
     "output_type": "execute_result"
    }
   ],
   "source": [
    "diffsum(4,20)"
   ]
  },
  {
   "cell_type": "code",
   "execution_count": 135,
   "metadata": {},
   "outputs": [
    {
     "name": "stdout",
     "output_type": "stream",
     "text": [
      "3 2 1 7 5 4\n"
     ]
    },
    {
     "data": {
      "text/plain": [
       "(7, [1, 3, 5], [2, 4, 7])"
      ]
     },
     "execution_count": 135,
     "metadata": {},
     "output_type": "execute_result"
    }
   ],
   "source": [
    "arr = list(map(int,input().split()))\n",
    "\n",
    "def sorting_sum(x):\n",
    "    even_list = []\n",
    "    odd_list = []\n",
    "    if len(x) <= 3:\n",
    "        return 0\n",
    "    else:\n",
    "        for i in range(len(x)):\n",
    "            if i % 2 == 0:\n",
    "                even_list.append(x[i])\n",
    "            else:\n",
    "                odd_list.append(x[i])\n",
    "    even_list.sort()\n",
    "    odd_list.sort()\n",
    "    \n",
    "    return (even_list[1] + odd_list[-2]),even_list,odd_list\n",
    "\n",
    "sorting_sum(arr)"
   ]
  },
  {
   "cell_type": "code",
   "execution_count": 177,
   "metadata": {},
   "outputs": [],
   "source": [
    "def checksumleast(arr):\n",
    "    if len(arr) < 2:\n",
    "        return -1\n",
    "    list_sum = sum(arr)\n",
    "    min_sum2 = sum(arr[:2])\n",
    "    result_arr = arr[:2]\n",
    "    for i in range(len(arr)):\n",
    "        for j in range(len(arr)):\n",
    "            if i != j:\n",
    "                sum_test = arr[i] + arr[j]\n",
    "                if sum_test < min_sum2:\n",
    "                    min_sum2 = sum_test\n",
    "                    result_arr = [arr[i],arr[j]]\n",
    "    if min_sum2 > list_sum:\n",
    "        return 0\n",
    "    return result_arr[0] * result_arr[1]\n",
    "                "
   ]
  },
  {
   "cell_type": "code",
   "execution_count": 180,
   "metadata": {},
   "outputs": [
    {
     "name": "stdout",
     "output_type": "stream",
     "text": [
      "4 2 43 37 01\n"
     ]
    },
    {
     "data": {
      "text/plain": [
       "2"
      ]
     },
     "execution_count": 180,
     "metadata": {},
     "output_type": "execute_result"
    }
   ],
   "source": [
    "arr = list(map(int,input().split()))\n",
    "\n",
    "checksumleast(arr)"
   ]
  },
  {
   "cell_type": "code",
   "execution_count": 182,
   "metadata": {},
   "outputs": [
    {
     "name": "stdout",
     "output_type": "stream",
     "text": [
      "0123456789\n",
      "abcdefghijklmnopqrstuvwxyz\n"
     ]
    },
    {
     "data": {
      "text/plain": [
       "'0'"
      ]
     },
     "execution_count": 182,
     "metadata": {},
     "output_type": "execute_result"
    }
   ],
   "source": [
    "m = str()   \n",
    "for i in range(48,58):\n",
    "    m += chr(i)\n",
    "    \n",
    "print(m)\n",
    "\n",
    "m = str()    \n",
    "for i in range(97,123):\n",
    "    m += chr(i)\n",
    "    \n",
    "print(m)\n",
    "chr(48)\n",
    "# m.find('0')"
   ]
  },
  {
   "cell_type": "code",
   "execution_count": 186,
   "metadata": {},
   "outputs": [],
   "source": [
    "def change_base_from_decimal(number,base):\n",
    "    n = number\n",
    "    remainder = 0\n",
    "    remainder_list = []\n",
    "    result = ''\n",
    "    while n > 0:    \n",
    "        remainder_list.append(n % base)\n",
    "        n //= base\n",
    "    for i in remainder_list[::-1]:\n",
    "        if i > 9:\n",
    "            result += chr(i + 55)\n",
    "        else:\n",
    "            result += str(i)\n",
    "    return result"
   ]
  },
  {
   "cell_type": "code",
   "execution_count": 188,
   "metadata": {},
   "outputs": [
    {
     "data": {
      "text/plain": [
       "'4BA'"
      ]
     },
     "execution_count": 188,
     "metadata": {},
     "output_type": "execute_result"
    }
   ],
   "source": [
    "change_base_from_decimal(5678,21)\n",
    "change_base_from_decimal(718,12)"
   ]
  },
  {
   "cell_type": "code",
   "execution_count": 163,
   "metadata": {},
   "outputs": [
    {
     "data": {
      "text/plain": [
       "'CI8'"
      ]
     },
     "execution_count": 163,
     "metadata": {},
     "output_type": "execute_result"
    }
   ],
   "source": [
    "change_base_from_decimal(5678,21)"
   ]
  },
  {
   "cell_type": "code",
   "execution_count": 164,
   "metadata": {},
   "outputs": [
    {
     "data": {
      "text/plain": [
       "'4BA'"
      ]
     },
     "execution_count": 164,
     "metadata": {},
     "output_type": "execute_result"
    }
   ],
   "source": [
    "change_base_from_decimal(718,12)"
   ]
  },
  {
   "cell_type": "code",
   "execution_count": 189,
   "metadata": {},
   "outputs": [
    {
     "data": {
      "text/plain": [
       "718"
      ]
     },
     "execution_count": 189,
     "metadata": {},
     "output_type": "execute_result"
    }
   ],
   "source": [
    "int('4ba',12)"
   ]
  },
  {
   "cell_type": "code",
   "execution_count": 199,
   "metadata": {},
   "outputs": [
    {
     "data": {
      "text/plain": [
       "5678"
      ]
     },
     "execution_count": 199,
     "metadata": {},
     "output_type": "execute_result"
    }
   ],
   "source": [
    "def change_base_to_decimalX(s,b):\n",
    "    result = 0\n",
    "    r = s[::-1]\n",
    "    for i in range(len(r)):\n",
    "        if ord(r[i]) > 64:\n",
    "            d = ord(r[i].upper()) -64 + 9\n",
    "            result += d*(b**i)\n",
    "        else:\n",
    "            result += int(r[i])*(b**i)\n",
    "    return result\n",
    "change_base_to_decimalX('CI8',21)\n",
    "change_base_to_decimalX('Ci8',21)"
   ]
  },
  {
   "cell_type": "code",
   "execution_count": 171,
   "metadata": {},
   "outputs": [],
   "source": [
    "def movehiphenleft(s):\n",
    "    r = s.replace('-','')\n",
    "    hyphen_count = s.count('-')\n",
    "    r = '-'*hyphen_count + r\n",
    "    print(r)"
   ]
  },
  {
   "cell_type": "code",
   "execution_count": 173,
   "metadata": {},
   "outputs": [
    {
     "name": "stdout",
     "output_type": "stream",
     "text": [
      "----ronitrajsahucettcs\n"
     ]
    }
   ],
   "source": [
    "movehiphenleft('ronit-raj-sahu-cet-tcs')"
   ]
  },
  {
   "cell_type": "code",
   "execution_count": 31,
   "metadata": {},
   "outputs": [],
   "source": [
    "def countcarry(n1,n2):\n",
    "    carry_list = []\n",
    "    m1 = n1\n",
    "    m2 = n2\n",
    "    r1 = m1 % 10\n",
    "    r2 = m2 % 10\n",
    "    m1 = m1 // 10\n",
    "    m2 = m2 // 10\n",
    "    carry_in = 0\n",
    "    while m1 + m2 > 0:\n",
    "        if r1 + r2 + carry_in > 9:\n",
    "            carry_list.append(1)\n",
    "            carry_in = 1\n",
    "        else:\n",
    "            carry_in = 0\n",
    "            \n",
    "        r1 = m1 % 10\n",
    "        r2 = m2 % 10\n",
    "        m1 = m1 // 10\n",
    "        m2 = m2 // 10\n",
    "    return(len(carry_list))\n",
    "    "
   ]
  },
  {
   "cell_type": "code",
   "execution_count": 201,
   "metadata": {},
   "outputs": [
    {
     "name": "stdout",
     "output_type": "stream",
     "text": [
      "999 1\n",
      "99 0\n",
      "9 0\n"
     ]
    },
    {
     "data": {
      "text/plain": [
       "3"
      ]
     },
     "execution_count": 201,
     "metadata": {},
     "output_type": "execute_result"
    }
   ],
   "source": [
    "def carrycounter(m1,m2):\n",
    "    n1,n2 = m1,m2\n",
    "    cnt = 0\n",
    "    carry = 0\n",
    "    while n1 + n2 > 0:\n",
    "        print(n1,n2)\n",
    "        if (n1%10 + n2%10 + carry) > 9:\n",
    "            cnt += 1\n",
    "            carry =1\n",
    "        else:\n",
    "            carry = 0\n",
    "        n1 = n1 // 10\n",
    "        n2 = n2 // 10\n",
    "        \n",
    "    return cnt\n",
    "# carrycounter(451,349)\n",
    "# carrycounter(23,563)\n",
    "carrycounter(999,1)"
   ]
  },
  {
   "cell_type": "code",
   "execution_count": 33,
   "metadata": {},
   "outputs": [
    {
     "data": {
      "text/plain": [
       "2"
      ]
     },
     "execution_count": 33,
     "metadata": {},
     "output_type": "execute_result"
    }
   ],
   "source": [
    "\n",
    "\n",
    "countcarry(451,349)"
   ]
  },
  {
   "cell_type": "code",
   "execution_count": 34,
   "metadata": {},
   "outputs": [
    {
     "data": {
      "text/plain": [
       "0"
      ]
     },
     "execution_count": 34,
     "metadata": {},
     "output_type": "execute_result"
    }
   ],
   "source": [
    "countcarry(23,563)"
   ]
  },
  {
   "cell_type": "code",
   "execution_count": 177,
   "metadata": {},
   "outputs": [
    {
     "data": {
      "text/plain": [
       "2"
      ]
     },
     "execution_count": 177,
     "metadata": {},
     "output_type": "execute_result"
    }
   ],
   "source": [
    "countcarry(999,1)"
   ]
  },
  {
   "cell_type": "code",
   "execution_count": 178,
   "metadata": {},
   "outputs": [
    {
     "ename": "TypeError",
     "evalue": "object of type 'int' has no len()",
     "output_type": "error",
     "traceback": [
      "\u001b[0;31m---------------------------------------------------------------------------\u001b[0m",
      "\u001b[0;31mTypeError\u001b[0m                                 Traceback (most recent call last)",
      "\u001b[0;32m<ipython-input-178-83cf5ab01a59>\u001b[0m in \u001b[0;36m<module>\u001b[0;34m\u001b[0m\n\u001b[0;32m----> 1\u001b[0;31m \u001b[0mlen\u001b[0m\u001b[0;34m(\u001b[0m\u001b[0;36m50\u001b[0m\u001b[0;34m)\u001b[0m\u001b[0;34m\u001b[0m\u001b[0;34m\u001b[0m\u001b[0m\n\u001b[0m",
      "\u001b[0;31mTypeError\u001b[0m: object of type 'int' has no len()"
     ]
    }
   ],
   "source": [
    "len(50)"
   ]
  },
  {
   "cell_type": "code",
   "execution_count": 183,
   "metadata": {},
   "outputs": [],
   "source": [
    "def swapchars(string, str1, str2):\n",
    "    s1 = string.replace(str1,str2)\n",
    "    s2 = string.replace(str2,str1)\n",
    "    r = str()\n",
    "    for i in range(len(string)):\n",
    "        if string[i] == s1[i] and string[i] == s2[i]:\n",
    "            r += string[i]\n",
    "        elif string[i] != s1[i]:\n",
    "            r += s1[i]\n",
    "        else:\n",
    "            r += s2[i]\n",
    "    return r\n"
   ]
  },
  {
   "cell_type": "code",
   "execution_count": 205,
   "metadata": {},
   "outputs": [],
   "source": [
    "def swapchars(string, str1, str2):\n",
    "    return string.replace(str1,'ron##it').replace(str2,str1).replace('ron##it',str2)"
   ]
  },
  {
   "cell_type": "code",
   "execution_count": 206,
   "metadata": {},
   "outputs": [
    {
     "data": {
      "text/plain": [
       "'I am nitin raj'"
      ]
     },
     "execution_count": 206,
     "metadata": {},
     "output_type": "execute_result"
    }
   ],
   "source": [
    "swapchars('I am raj nitin','raj','nitin')\n",
    "# 'ronit'.replace('r','u')"
   ]
  },
  {
   "cell_type": "code",
   "execution_count": 189,
   "metadata": {},
   "outputs": [
    {
     "data": {
      "text/plain": [
       "[5, 4, 3, 2, 1]"
      ]
     },
     "execution_count": 189,
     "metadata": {},
     "output_type": "execute_result"
    }
   ],
   "source": [
    "list(range(5,0,-1))"
   ]
  },
  {
   "cell_type": "code",
   "execution_count": 215,
   "metadata": {},
   "outputs": [],
   "source": [
    "def exp_count_2(n):\n",
    "    r = int()\n",
    "    cnt = 0\n",
    "    m = n\n",
    "    while m > 0:\n",
    "        if m %2 == 0:\n",
    "            cnt += 1\n",
    "            \n",
    "        else:\n",
    "            break\n",
    "        m /= 2\n",
    "    return cnt"
   ]
  },
  {
   "cell_type": "code",
   "execution_count": 216,
   "metadata": {},
   "outputs": [],
   "source": [
    "exp_count_2(64)\n",
    "l= []"
   ]
  },
  {
   "cell_type": "code",
   "execution_count": 218,
   "metadata": {},
   "outputs": [
    {
     "name": "stdout",
     "output_type": "stream",
     "text": [
      "7\n"
     ]
    }
   ],
   "source": [
    "for i in range(64,129):\n",
    "    l.append(exp_count_2(i))\n",
    "print(max(l))"
   ]
  },
  {
   "cell_type": "code",
   "execution_count": 224,
   "metadata": {},
   "outputs": [
    {
     "data": {
      "text/plain": [
       "[6,\n",
       " 0,\n",
       " 1,\n",
       " 0,\n",
       " 2,\n",
       " 0,\n",
       " 1,\n",
       " 0,\n",
       " 3,\n",
       " 0,\n",
       " 1,\n",
       " 0,\n",
       " 2,\n",
       " 0,\n",
       " 1,\n",
       " 0,\n",
       " 4,\n",
       " 0,\n",
       " 1,\n",
       " 0,\n",
       " 2,\n",
       " 0,\n",
       " 1,\n",
       " 0,\n",
       " 3,\n",
       " 0,\n",
       " 1,\n",
       " 0,\n",
       " 2,\n",
       " 0,\n",
       " 1,\n",
       " 0,\n",
       " 5,\n",
       " 0,\n",
       " 1,\n",
       " 0,\n",
       " 2,\n",
       " 0,\n",
       " 1,\n",
       " 0,\n",
       " 3,\n",
       " 0,\n",
       " 1,\n",
       " 0,\n",
       " 2,\n",
       " 0,\n",
       " 1,\n",
       " 0,\n",
       " 4,\n",
       " 0,\n",
       " 1,\n",
       " 0,\n",
       " 2,\n",
       " 0,\n",
       " 1,\n",
       " 0,\n",
       " 3,\n",
       " 0,\n",
       " 1,\n",
       " 0,\n",
       " 2,\n",
       " 0,\n",
       " 1,\n",
       " 0,\n",
       " 7]"
      ]
     },
     "execution_count": 224,
     "metadata": {},
     "output_type": "execute_result"
    }
   ],
   "source": [
    "list(map(exp_count_2,range(64,129)))"
   ]
  },
  {
   "cell_type": "code",
   "execution_count": 209,
   "metadata": {},
   "outputs": [],
   "source": [
    "def exp_count_2A(n):\n",
    "    r = int()\n",
    "    cnt = 0\n",
    "    m = n\n",
    "    while m %2 == 0:\n",
    "        cnt += 1\n",
    "        m /= 2\n",
    "#     return cnt\n",
    "    if m==1:\n",
    "        return cnt\n",
    "    else:\n",
    "        return \"not an exponent\""
   ]
  },
  {
   "cell_type": "code",
   "execution_count": 210,
   "metadata": {},
   "outputs": [
    {
     "data": {
      "text/plain": [
       "'not an exponent'"
      ]
     },
     "execution_count": 210,
     "metadata": {},
     "output_type": "execute_result"
    }
   ],
   "source": [
    "exp_count_2A(48)"
   ]
  },
  {
   "cell_type": "code",
   "execution_count": 211,
   "metadata": {},
   "outputs": [],
   "source": [
    "def fun_3and5(n1,n2):\n",
    "    rlist = []\n",
    "    if n1 < n2:\n",
    "        min_n = n1\n",
    "        max_n = n2\n",
    "    else:\n",
    "        min_n = n2\n",
    "        max_n = n1\n",
    "    for i in range(min_n,max_n+1):\n",
    "        if i%15 == 0:\n",
    "            rlist.append(i)\n",
    "    return sum(rlist)\n"
   ]
  },
  {
   "cell_type": "code",
   "execution_count": 212,
   "metadata": {},
   "outputs": [
    {
     "data": {
      "text/plain": [
       "90"
      ]
     },
     "execution_count": 212,
     "metadata": {},
     "output_type": "execute_result"
    }
   ],
   "source": [
    "fun_3and5(50,12)"
   ]
  },
  {
   "cell_type": "code",
   "execution_count": 259,
   "metadata": {},
   "outputs": [
    {
     "name": "stdout",
     "output_type": "stream",
     "text": [
      "4\n",
      "1\n",
      "2\n",
      "3\n",
      "4\n",
      "3\n"
     ]
    }
   ],
   "source": [
    "def sort_2nd_sum(arr):\n",
    "    o_arr = []\n",
    "    e_arr = []\n",
    "    for i in range(len(arr)):\n",
    "        if i % 2 == 0:\n",
    "            e_arr.append(arr[i])\n",
    "        else:\n",
    "            o_arr.append(arr[i])\n",
    "    o_arr.sort(reverse = True)\n",
    "    e_arr.sort(reverse = True)\n",
    "#     print(o_arr);print(e_arr)\n",
    "    return (o_arr[1]+e_arr[1])\n",
    "\n",
    "n = int(input())\n",
    "inp_list = []\n",
    "if n < 4:\n",
    "    print(\"invalid input\")\n",
    "else:\n",
    "    for i in range(n):\n",
    "        inp_list.append(int(input()))\n",
    "    p = sort_2nd_sum(inp_list)\n",
    "print(p)"
   ]
  },
  {
   "cell_type": "code",
   "execution_count": 253,
   "metadata": {},
   "outputs": [
    {
     "data": {
      "text/plain": [
       "[3, 4, 1, 7, 9]"
      ]
     },
     "execution_count": 253,
     "metadata": {},
     "output_type": "execute_result"
    }
   ],
   "source": [
    "inp_list"
   ]
  },
  {
   "cell_type": "code",
   "execution_count": 260,
   "metadata": {},
   "outputs": [
    {
     "name": "stdout",
     "output_type": "stream",
     "text": [
      "5\n",
      "[5, 10, 15, 20, 25, 30, 35, 40, 45, 50]\n",
      "275\n"
     ]
    }
   ],
   "source": [
    "def number_table(n):\n",
    "    result = []\n",
    "    for i in range(10):\n",
    "        result.append(5*(i+1))\n",
    "    return result,sum(result)\n",
    "\n",
    "number = int(input())\n",
    "l,s = number_table(number)\n",
    "print(l)\n",
    "print(s)"
   ]
  },
  {
   "cell_type": "code",
   "execution_count": 215,
   "metadata": {},
   "outputs": [],
   "source": [
    "def findpallindrome_between(n1,n2):\n",
    "    order_lambda = lambda x,y: (x,y) if x < y else (y,x)\n",
    "    m1,m2 = order_lambda(n1,n2)\n",
    "    pallindrome = []\n",
    "    for i in range(m1,m2+1):\n",
    "        if str(i) == str(i)[::-1]:\n",
    "            pallindrome.append(i)\n",
    "    return(pallindrome,len(pallindrome))\n",
    "        "
   ]
  },
  {
   "cell_type": "code",
   "execution_count": 217,
   "metadata": {},
   "outputs": [
    {
     "data": {
      "text/plain": [
       "([1,\n",
       "  2,\n",
       "  3,\n",
       "  4,\n",
       "  5,\n",
       "  6,\n",
       "  7,\n",
       "  8,\n",
       "  9,\n",
       "  11,\n",
       "  22,\n",
       "  33,\n",
       "  44,\n",
       "  55,\n",
       "  66,\n",
       "  77,\n",
       "  88,\n",
       "  99,\n",
       "  101,\n",
       "  111,\n",
       "  121,\n",
       "  131,\n",
       "  141,\n",
       "  151,\n",
       "  161,\n",
       "  171,\n",
       "  181,\n",
       "  191,\n",
       "  202,\n",
       "  212,\n",
       "  222,\n",
       "  232,\n",
       "  242,\n",
       "  252,\n",
       "  262,\n",
       "  272,\n",
       "  282,\n",
       "  292,\n",
       "  303,\n",
       "  313,\n",
       "  323,\n",
       "  333,\n",
       "  343,\n",
       "  353,\n",
       "  363,\n",
       "  373,\n",
       "  383,\n",
       "  393,\n",
       "  404,\n",
       "  414,\n",
       "  424,\n",
       "  434,\n",
       "  444,\n",
       "  454,\n",
       "  464,\n",
       "  474,\n",
       "  484,\n",
       "  494,\n",
       "  505,\n",
       "  515,\n",
       "  525,\n",
       "  535,\n",
       "  545,\n",
       "  555,\n",
       "  565,\n",
       "  575,\n",
       "  585,\n",
       "  595,\n",
       "  606,\n",
       "  616,\n",
       "  626,\n",
       "  636,\n",
       "  646,\n",
       "  656,\n",
       "  666,\n",
       "  676,\n",
       "  686,\n",
       "  696,\n",
       "  707,\n",
       "  717,\n",
       "  727,\n",
       "  737,\n",
       "  747,\n",
       "  757,\n",
       "  767,\n",
       "  777,\n",
       "  787,\n",
       "  797,\n",
       "  808,\n",
       "  818,\n",
       "  828,\n",
       "  838,\n",
       "  848,\n",
       "  858,\n",
       "  868,\n",
       "  878,\n",
       "  888,\n",
       "  898,\n",
       "  909,\n",
       "  919,\n",
       "  929,\n",
       "  939,\n",
       "  949,\n",
       "  959,\n",
       "  969,\n",
       "  979,\n",
       "  989,\n",
       "  999],\n",
       " 108)"
      ]
     },
     "execution_count": 217,
     "metadata": {},
     "output_type": "execute_result"
    }
   ],
   "source": [
    "findpallindrome_between(1,1000)"
   ]
  },
  {
   "cell_type": "code",
   "execution_count": 265,
   "metadata": {},
   "outputs": [
    {
     "data": {
      "text/plain": [
       "[11, 22, 33, 44, 55, 66, 77]"
      ]
     },
     "execution_count": 265,
     "metadata": {},
     "output_type": "execute_result"
    }
   ],
   "source": [
    "findpallindrome_between(80,10)"
   ]
  },
  {
   "cell_type": "code",
   "execution_count": 268,
   "metadata": {},
   "outputs": [
    {
     "data": {
      "text/plain": [
       "[88, 99, 101, 111, 121]"
      ]
     },
     "execution_count": 268,
     "metadata": {},
     "output_type": "execute_result"
    }
   ],
   "source": [
    "findpallindrome_between(80,121)"
   ]
  },
  {
   "cell_type": "code",
   "execution_count": 270,
   "metadata": {},
   "outputs": [
    {
     "name": "stdout",
     "output_type": "stream",
     "text": [
      "10\n",
      "95\n",
      "11 22 33 44 55 66 77 88 "
     ]
    }
   ],
   "source": [
    "first_number = int(input())\n",
    "second_number = int(input())\n",
    "\n",
    "for i in range(first_number, second_number+1):\n",
    "    reverse = 0\n",
    "    temp = i\n",
    "    while temp != 0:\n",
    "        remainder = temp % 10\n",
    "        reverse = (reverse * 10)+remainder\n",
    "        temp = temp // 10\n",
    "    if i == reverse:\n",
    "        print(reverse, end=\" \")"
   ]
  },
  {
   "cell_type": "code",
   "execution_count": 218,
   "metadata": {},
   "outputs": [
    {
     "ename": "NameError",
     "evalue": "name 'copysign' is not defined",
     "output_type": "error",
     "traceback": [
      "\u001b[0;31m---------------------------------------------------------------------------\u001b[0m",
      "\u001b[0;31mNameError\u001b[0m                                 Traceback (most recent call last)",
      "\u001b[0;32m<ipython-input-218-a2f77270177d>\u001b[0m in \u001b[0;36m<module>\u001b[0;34m\u001b[0m\n\u001b[0;32m----> 1\u001b[0;31m \u001b[0mcopysign\u001b[0m\u001b[0;34m(\u001b[0m\u001b[0mx\u001b[0m\u001b[0;34m,\u001b[0m \u001b[0my\u001b[0m\u001b[0;34m)\u001b[0m\u001b[0;34m\u001b[0m\u001b[0;34m\u001b[0m\u001b[0m\n\u001b[0m",
      "\u001b[0;31mNameError\u001b[0m: name 'copysign' is not defined"
     ]
    }
   ],
   "source": [
    "\n",
    "\n",
    "copysign(x, y)"
   ]
  },
  {
   "cell_type": "code",
   "execution_count": 271,
   "metadata": {},
   "outputs": [
    {
     "data": {
      "text/plain": [
       "1.4142135623730951"
      ]
     },
     "execution_count": 271,
     "metadata": {},
     "output_type": "execute_result"
    }
   ],
   "source": [
    "2**0.5"
   ]
  },
  {
   "cell_type": "code",
   "execution_count": 278,
   "metadata": {},
   "outputs": [
    {
     "name": "stdout",
     "output_type": "stream",
     "text": [
      "3.16 2.24 5.39\n"
     ]
    }
   ],
   "source": [
    "x1, y1 = 1, 1\n",
    "x2, y2 = 2, 4\n",
    "x3, y3 = 3, 6\n",
    "\n",
    "# p12 = ((x1-x2)**2+(y1-y2)**2)**0.5\n",
    "# p23 = ((x2-x3)**2+(y2-y3)**2)**0.5\n",
    "# p31 = ((x3-x1)**2+(y3-y1)**2)**0.5\n",
    "\n",
    "\n",
    "p12 = round(((x1-x2)**2+(y1-y2)**2)**0.5,2)\n",
    "p23 = round(((x2-x3)**2+(y2-y3)**2)**0.5,2)\n",
    "p31 = round(((x3-x1)**2+(y3-y1)**2)**0.5,2)\n",
    "\n",
    "\n",
    "\n",
    "print(p12, p23, p31)"
   ]
  },
  {
   "cell_type": "code",
   "execution_count": 274,
   "metadata": {},
   "outputs": [
    {
     "name": "stdout",
     "output_type": "stream",
     "text": [
      "3.16 2.24 5.39\n"
     ]
    }
   ],
   "source": [
    "import math\n",
    "\n",
    "x1, y1 = 1, 1\n",
    "x2, y2 = 2, 4\n",
    "x3, y3 = 3, 6\n",
    "\n",
    "first_diff = math.sqrt(math.pow(x2-x1, 2) + math.pow(y2-y1, 2))\n",
    "second_diff = math.sqrt(math.pow(x3-x2, 2) + math.pow(y3-y2, 2))\n",
    "third_diff = math.sqrt(math.pow(x3-x1, 2) + math.pow(y3-y1, 2))\n",
    "\n",
    "print(round(first_diff,2), round(second_diff,2), round(third_diff,2))"
   ]
  },
  {
   "cell_type": "code",
   "execution_count": 1,
   "metadata": {},
   "outputs": [
    {
     "name": "stdout",
     "output_type": "stream",
     "text": [
      "6\n",
      "9\n",
      "55\n"
     ]
    },
    {
     "data": {
      "text/plain": [
       "55"
      ]
     },
     "execution_count": 1,
     "metadata": {},
     "output_type": "execute_result"
    }
   ],
   "source": [
    "def gratest_3(n1,n2,n3):\n",
    "    l = [n1,n2,n3]\n",
    "    l.sort()\n",
    "    return(l[-1])\n",
    "\n",
    "a = int(input())\n",
    "b = int(input())\n",
    "c = int(input())\n",
    "\n",
    "gratest_3(a,b,c)\n",
    "        "
   ]
  },
  {
   "cell_type": "code",
   "execution_count": 2,
   "metadata": {},
   "outputs": [],
   "source": [
    "def armstrong(n):\n",
    "    nstring = str(n)\n",
    "    digicount = len(nstring)\n",
    "    sum_of = 0\n",
    "    for i in nstring:\n",
    "        sum_of += int(i)**digicount\n",
    "    if n == sum_of:\n",
    "        print(\"{} is a armstrong number.\".format(n))\n",
    "    else:\n",
    "        print(\"{} is not a armstrong number.\".format(n))"
   ]
  },
  {
   "cell_type": "code",
   "execution_count": 3,
   "metadata": {},
   "outputs": [
    {
     "name": "stdout",
     "output_type": "stream",
     "text": [
      "153 is a armstrong number.\n"
     ]
    }
   ],
   "source": [
    "armstrong(153)"
   ]
  },
  {
   "cell_type": "code",
   "execution_count": 5,
   "metadata": {},
   "outputs": [
    {
     "name": "stdout",
     "output_type": "stream",
     "text": [
      "1634 is a armstrong number.\n"
     ]
    }
   ],
   "source": [
    "armstrong(1634)"
   ]
  },
  {
   "cell_type": "code",
   "execution_count": 8,
   "metadata": {},
   "outputs": [
    {
     "name": "stdout",
     "output_type": "stream",
     "text": [
      "Enter Year:2008\n",
      "Yes, 2008 is Leap Year\n"
     ]
    }
   ],
   "source": [
    "year = int(input(\"Enter Year:\"))\n",
    "if year % 4 == 0:\n",
    "    if year % 100 == 0:\n",
    "        if year % 400 == 0:\n",
    "            print(\"Yes, {} is Leap Year\".format(year))\n",
    "        else:\n",
    "            print(\"No, {} is Leap Year\".format(year))\n",
    "    else:\n",
    "        print(\"Yes, {} is Leap Year\".format(year))\n",
    "else:\n",
    "    print(\"No, {} is Leap Year\".format(year))"
   ]
  },
  {
   "cell_type": "code",
   "execution_count": 17,
   "metadata": {},
   "outputs": [],
   "source": [
    "def primecheck(n):\n",
    "    if n > 1:\n",
    "        for i in range(2,n):\n",
    "            if n % i == 0:\n",
    "                break\n",
    "        else:\n",
    "            return True\n",
    "        return False\n",
    "    else:\n",
    "        return False\n",
    "            "
   ]
  },
  {
   "cell_type": "code",
   "execution_count": 40,
   "metadata": {},
   "outputs": [
    {
     "data": {
      "text/plain": [
       "True"
      ]
     },
     "execution_count": 40,
     "metadata": {},
     "output_type": "execute_result"
    }
   ],
   "source": [
    "primecheck(23)"
   ]
  },
  {
   "cell_type": "code",
   "execution_count": 42,
   "metadata": {},
   "outputs": [
    {
     "name": "stdout",
     "output_type": "stream",
     "text": [
      "25 [2, 3, 5, 7, 11, 13, 17, 19, 23, 29, 31, 37, 41, 43, 47, 53, 59, 61, 67, 71, 73, 79, 83, 89, 97]\n"
     ]
    }
   ],
   "source": [
    "prime = []\n",
    "for i in range(100):\n",
    "    if primecheck(i):\n",
    "        prime.append(i)\n",
    "print(len(prime),prime)\n"
   ]
  },
  {
   "cell_type": "code",
   "execution_count": 24,
   "metadata": {},
   "outputs": [
    {
     "name": "stdout",
     "output_type": "stream",
     "text": [
      "1\n",
      "2\n",
      "3\n"
     ]
    }
   ],
   "source": [
    "\n",
    "count = 0\n",
    "while (count < 4):     \n",
    "    count = count+1\n",
    "    print(count)\n",
    "    if count == 3:\n",
    "        break\n",
    "else:\n",
    "    print(\"No Break\") "
   ]
  },
  {
   "cell_type": "code",
   "execution_count": 25,
   "metadata": {},
   "outputs": [
    {
     "data": {
      "text/plain": [
       "0.0"
      ]
     },
     "execution_count": 25,
     "metadata": {},
     "output_type": "execute_result"
    }
   ],
   "source": [
    "round(5555.4565,-5)"
   ]
  },
  {
   "cell_type": "code",
   "execution_count": 51,
   "metadata": {},
   "outputs": [],
   "source": [
    "def primecheck2(n):\n",
    "    if n > 1:\n",
    "        for i in range(2,n):\n",
    "            if n % i == 0:\n",
    "                return False\n",
    "        return True\n",
    "    else:\n",
    "        return False\n",
    "            "
   ]
  },
  {
   "cell_type": "code",
   "execution_count": 55,
   "metadata": {},
   "outputs": [
    {
     "name": "stdout",
     "output_type": "stream",
     "text": [
      "10 [53, 59, 61, 67, 71, 73, 79, 83, 89, 97]\n"
     ]
    }
   ],
   "source": [
    "prime2 = []\n",
    "for i in range(50,100):\n",
    "    if primecheck2(i):\n",
    "        prime2.append(i)\n",
    "print(len(prime2),prime2)"
   ]
  },
  {
   "cell_type": "code",
   "execution_count": 56,
   "metadata": {},
   "outputs": [
    {
     "data": {
      "text/plain": [
       "True"
      ]
     },
     "execution_count": 56,
     "metadata": {},
     "output_type": "execute_result"
    }
   ],
   "source": [
    "primecheck2(2)"
   ]
  },
  {
   "cell_type": "code",
   "execution_count": 219,
   "metadata": {},
   "outputs": [],
   "source": [
    "def sumofdigits(n):\n",
    "    sumdigit = 0\n",
    "    while n > 0:\n",
    "        sumdigit += n % 10\n",
    "        n //= 10\n",
    "        print(n)\n",
    "    return sumdigit"
   ]
  },
  {
   "cell_type": "code",
   "execution_count": 220,
   "metadata": {},
   "outputs": [
    {
     "name": "stdout",
     "output_type": "stream",
     "text": [
      "1976\n",
      "197\n",
      "19\n",
      "1\n",
      "0\n"
     ]
    },
    {
     "data": {
      "text/plain": [
       "31"
      ]
     },
     "execution_count": 220,
     "metadata": {},
     "output_type": "execute_result"
    }
   ],
   "source": [
    "sumofdigits(19768)"
   ]
  },
  {
   "cell_type": "code",
   "execution_count": 221,
   "metadata": {},
   "outputs": [
    {
     "name": "stdout",
     "output_type": "stream",
     "text": [
      "19968\n",
      "1996\n",
      "199\n",
      "19\n",
      "1\n",
      "0\n"
     ]
    },
    {
     "data": {
      "text/plain": [
       "586991"
      ]
     },
     "execution_count": 221,
     "metadata": {},
     "output_type": "execute_result"
    }
   ],
   "source": [
    "def reverse_number(n):\n",
    "    rev_n = 0\n",
    "    while n > 0:\n",
    "        rev_n = rev_n * 10 + n % 10\n",
    "        n //= 10\n",
    "        print(n)\n",
    "    return rev_n\n",
    "\n",
    "reverse_number(199685)"
   ]
  },
  {
   "cell_type": "code",
   "execution_count": 223,
   "metadata": {},
   "outputs": [
    {
     "name": "stdout",
     "output_type": "stream",
     "text": [
      "118569 118569.4\n"
     ]
    }
   ],
   "source": [
    "m = 1185694\n",
    "n = 1185694\n",
    "while m + n > 0:\n",
    "    m //= 10\n",
    "    n /= 10\n",
    "    print(m,n)\n",
    "#     break\n",
    "    "
   ]
  },
  {
   "cell_type": "code",
   "execution_count": 224,
   "metadata": {},
   "outputs": [],
   "source": [
    "def reverse_number2(n):\n",
    "    reverse_n = int(str(n)[::-1])\n",
    "    return reverse_n"
   ]
  },
  {
   "cell_type": "code",
   "execution_count": 225,
   "metadata": {},
   "outputs": [
    {
     "data": {
      "text/plain": [
       "600991"
      ]
     },
     "execution_count": 225,
     "metadata": {},
     "output_type": "execute_result"
    }
   ],
   "source": [
    "reverse_number2(19900600)"
   ]
  },
  {
   "cell_type": "code",
   "execution_count": 226,
   "metadata": {},
   "outputs": [],
   "source": [
    "def palindrome(n):\n",
    "    m = str(n)\n",
    "    return m == m[::-1]"
   ]
  },
  {
   "cell_type": "code",
   "execution_count": 229,
   "metadata": {},
   "outputs": [
    {
     "name": "stdout",
     "output_type": "stream",
     "text": [
      "0 1 2 3 4 5 6 7 8 9 11 22 33 44 55 66 77 88 99 "
     ]
    }
   ],
   "source": [
    "for i in range(100):\n",
    "    if palindrome(i):\n",
    "        print(i,end = \" \")\n",
    "    "
   ]
  },
  {
   "cell_type": "code",
   "execution_count": 230,
   "metadata": {},
   "outputs": [],
   "source": [
    "def isamstrong(n):\n",
    "    m= str(n)\n",
    "    digitnr = len(m)\n",
    "    sr = 0\n",
    "    for i in m:\n",
    "        sr += int(i) ** digitnr\n",
    "    return sr == n"
   ]
  },
  {
   "cell_type": "code",
   "execution_count": 231,
   "metadata": {},
   "outputs": [
    {
     "data": {
      "text/plain": [
       "True"
      ]
     },
     "execution_count": 231,
     "metadata": {},
     "output_type": "execute_result"
    }
   ],
   "source": [
    "isamstrong(153)"
   ]
  },
  {
   "cell_type": "code",
   "execution_count": 233,
   "metadata": {},
   "outputs": [
    {
     "data": {
      "text/plain": [
       "True"
      ]
     },
     "execution_count": 233,
     "metadata": {},
     "output_type": "execute_result"
    }
   ],
   "source": [
    "isamstrong(1634)"
   ]
  },
  {
   "cell_type": "code",
   "execution_count": 234,
   "metadata": {},
   "outputs": [
    {
     "data": {
      "text/plain": [
       "[153, 370, 371, 407]"
      ]
     },
     "execution_count": 234,
     "metadata": {},
     "output_type": "execute_result"
    }
   ],
   "source": [
    "ams = []\n",
    "for i in range(100,1000):\n",
    "    if isamstrong(i):\n",
    "        ams.append(i)\n",
    "ams"
   ]
  },
  {
   "cell_type": "code",
   "execution_count": 81,
   "metadata": {},
   "outputs": [
    {
     "data": {
      "text/plain": [
       "(4181,\n",
       " [0,\n",
       "  1,\n",
       "  1,\n",
       "  2,\n",
       "  3,\n",
       "  5,\n",
       "  8,\n",
       "  13,\n",
       "  21,\n",
       "  34,\n",
       "  55,\n",
       "  89,\n",
       "  144,\n",
       "  233,\n",
       "  377,\n",
       "  610,\n",
       "  987,\n",
       "  1597,\n",
       "  2584,\n",
       "  4181])"
      ]
     },
     "execution_count": 81,
     "metadata": {},
     "output_type": "execute_result"
    }
   ],
   "source": [
    "n = 20\n",
    "fib = [0,1]\n",
    "\n",
    "while len(fib) < n:\n",
    "    m = fib[-1] + fib[-2]\n",
    "    fib.append(m)\n",
    "    \n",
    "fib[n-1], fib"
   ]
  },
  {
   "cell_type": "code",
   "execution_count": 92,
   "metadata": {},
   "outputs": [],
   "source": [
    "import timeit"
   ]
  },
  {
   "cell_type": "code",
   "execution_count": 82,
   "metadata": {},
   "outputs": [],
   "source": [
    "def factorial(n):\n",
    "    fact  = 1\n",
    "    for i in range(1,n+1):\n",
    "        fact *= i\n",
    "    return fact"
   ]
  },
  {
   "cell_type": "code",
   "execution_count": 95,
   "metadata": {},
   "outputs": [
    {
     "data": {
      "text/plain": [
       "0.24763944700134743"
      ]
     },
     "execution_count": 95,
     "metadata": {},
     "output_type": "execute_result"
    }
   ],
   "source": [
    "timeit.timeit(lambda: \"-\".join(map(str, range(100))), number=10000)"
   ]
  },
  {
   "cell_type": "code",
   "execution_count": 96,
   "metadata": {},
   "outputs": [
    {
     "name": "stdout",
     "output_type": "stream",
     "text": [
      "--- 0.00012111663818359375 seconds ---\n"
     ]
    }
   ],
   "source": [
    "import time\n",
    "start_time = time.time()\n",
    "factorial(7)\n",
    "print(\"--- %s seconds ---\" % (time.time() - start_time))"
   ]
  },
  {
   "cell_type": "code",
   "execution_count": 108,
   "metadata": {},
   "outputs": [],
   "source": [
    "def factorial2(n):\n",
    "    if n in (0,1):\n",
    "        return 1\n",
    "    else:\n",
    "        return n * factorial2(n-1)"
   ]
  },
  {
   "cell_type": "code",
   "execution_count": 109,
   "metadata": {},
   "outputs": [
    {
     "name": "stdout",
     "output_type": "stream",
     "text": [
      "5040\n",
      "--- 0.0003077983856201172 seconds ---\n"
     ]
    }
   ],
   "source": [
    "start_time = time.time()\n",
    "print(factorial2(7))\n",
    "print(\"--- %s seconds ---\" % (time.time() - start_time))"
   ]
  },
  {
   "cell_type": "code",
   "execution_count": 112,
   "metadata": {},
   "outputs": [],
   "source": [
    "def Isstrong_nr(n):\n",
    "    m = n\n",
    "    res = 0\n",
    "    while m > 0:\n",
    "        res += factorial2(m%10)\n",
    "        m //= 10\n",
    "        print(res)\n",
    "    return res == n"
   ]
  },
  {
   "cell_type": "code",
   "execution_count": 113,
   "metadata": {},
   "outputs": [
    {
     "name": "stdout",
     "output_type": "stream",
     "text": [
      "120\n",
      "144\n",
      "145\n"
     ]
    },
    {
     "data": {
      "text/plain": [
       "True"
      ]
     },
     "execution_count": 113,
     "metadata": {},
     "output_type": "execute_result"
    }
   ],
   "source": [
    "Isstrong_nr(145)"
   ]
  },
  {
   "cell_type": "code",
   "execution_count": 114,
   "metadata": {},
   "outputs": [],
   "source": [
    "def isperfect(n):\n",
    "    proper_div = []\n",
    "    for i in range(1,n):\n",
    "        if n % i == 0:\n",
    "            proper_div.append(i)\n",
    "    return n == sum(proper_div)"
   ]
  },
  {
   "cell_type": "code",
   "execution_count": 115,
   "metadata": {},
   "outputs": [
    {
     "data": {
      "text/plain": [
       "True"
      ]
     },
     "execution_count": 115,
     "metadata": {},
     "output_type": "execute_result"
    }
   ],
   "source": [
    "isperfect(6)"
   ]
  },
  {
   "cell_type": "code",
   "execution_count": 116,
   "metadata": {},
   "outputs": [
    {
     "data": {
      "text/plain": [
       "False"
      ]
     },
     "execution_count": 116,
     "metadata": {},
     "output_type": "execute_result"
    }
   ],
   "source": [
    "isperfect(14)"
   ]
  },
  {
   "cell_type": "code",
   "execution_count": 119,
   "metadata": {},
   "outputs": [
    {
     "name": "stdout",
     "output_type": "stream",
     "text": [
      "0 6 28 496 8128 "
     ]
    }
   ],
   "source": [
    "for i in range(10000):\n",
    "    if isperfect(i):\n",
    "        print(i,end = ' ')"
   ]
  },
  {
   "cell_type": "code",
   "execution_count": 127,
   "metadata": {},
   "outputs": [],
   "source": [
    "def isharshadnr(n):\n",
    "    if n > 0:\n",
    "        m = str(n)\n",
    "        digicnt = 0\n",
    "        for i in m:\n",
    "            digicnt += int(i)\n",
    "        return n % digicnt == 0"
   ]
  },
  {
   "cell_type": "code",
   "execution_count": 128,
   "metadata": {},
   "outputs": [],
   "source": [
    "isharshadnr(0)"
   ]
  },
  {
   "cell_type": "code",
   "execution_count": 129,
   "metadata": {},
   "outputs": [
    {
     "name": "stdout",
     "output_type": "stream",
     "text": [
      "1 2 3 4 5 6 7 8 9 10 12 18 20 21 24 27 30 36 40 42 45 48 50 54 60 63 70 72 80 81 84 90 100 102 108 110 111 112 114 117 120 126 132 133 135 140 144 150 152 153 156 162 171 180 190 192 195 198 200 201 204 207 209 210 216 220 222 224 225 228 230 234 240 243 247 252 261 264 266 270 280 285 288 300 306 308 312 315 320 322 324 330 333 336 342 351 360 364 370 372 375 378 392 396 399 400 402 405 407 408 410 414 420 423 432 440 441 444 448 450 460 465 468 476 480 481 486 500 504 506 510 511 512 513 516 518 522 531 540 550 552 555 558 576 588 592 594 600 603 605 612 621 624 629 630 640 644 645 648 660 666 684 690 700 702 704 711 715 720 730 732 735 736 738 756 770 774 777 780 782 792 800 801 803 804 810 820 825 828 832 840 846 864 870 874 880 882 888 900 902 910 912 915 918 935 936 954 960 966 972 990 999 "
     ]
    }
   ],
   "source": [
    "for i in range(1,1000):\n",
    "    if isharshadnr(i):\n",
    "        print(i, end = \" \")"
   ]
  },
  {
   "cell_type": "code",
   "execution_count": 194,
   "metadata": {},
   "outputs": [],
   "source": [
    "def base_to_decimal(n,b):\n",
    "    d = {}\n",
    "    for i in range(48,58):\n",
    "        d[chr(i)] = int(chr(i))\n",
    "    for i in range(65,91):\n",
    "        d[chr(i)] = i -64 + 9\n",
    "    p = 0\n",
    "    res = 0\n",
    "    for i in n[::-1]:\n",
    "        res += d[i]*(b**p)\n",
    "        p += 1\n",
    "    return res"
   ]
  },
  {
   "cell_type": "code",
   "execution_count": 195,
   "metadata": {},
   "outputs": [
    {
     "name": "stdout",
     "output_type": "stream",
     "text": [
      "Please enter the number:101\n"
     ]
    },
    {
     "data": {
      "text/plain": [
       "5"
      ]
     },
     "execution_count": 195,
     "metadata": {},
     "output_type": "execute_result"
    }
   ],
   "source": [
    "n = input(\"Please enter the number:\")\n",
    "\n",
    "base_to_decimal(n,2)"
   ]
  },
  {
   "cell_type": "code",
   "execution_count": 196,
   "metadata": {},
   "outputs": [
    {
     "data": {
      "text/plain": [
       "5678"
      ]
     },
     "execution_count": 196,
     "metadata": {},
     "output_type": "execute_result"
    }
   ],
   "source": [
    "base_to_decimal('CI8',21)"
   ]
  },
  {
   "cell_type": "code",
   "execution_count": 140,
   "metadata": {},
   "outputs": [],
   "source": [
    "def decimal_2_base(n,b):\n",
    "    rem_list = []\n",
    "    res = ''\n",
    "    while n > 0:\n",
    "        rem_list.append(n % b)\n",
    "        n //= b\n",
    "    for i in rem_list[::-1]:\n",
    "        if i < 10:\n",
    "            res += str(i)\n",
    "        else:\n",
    "            res += chr(i + 64 -9)\n",
    "    return res"
   ]
  },
  {
   "cell_type": "code",
   "execution_count": 143,
   "metadata": {},
   "outputs": [
    {
     "data": {
      "text/plain": [
       "'CI8'"
      ]
     },
     "execution_count": 143,
     "metadata": {},
     "output_type": "execute_result"
    }
   ],
   "source": [
    "decimal_2_base(5678,21)"
   ]
  },
  {
   "cell_type": "code",
   "execution_count": 39,
   "metadata": {},
   "outputs": [],
   "source": [
    "def isautomorphic(n):\n",
    "    m = str(n)\n",
    "    ln = len(m)\n",
    "    sq = n ** 2\n",
    "    msq = str(sq)\n",
    "    return m == msq[-ln:]"
   ]
  },
  {
   "cell_type": "code",
   "execution_count": 40,
   "metadata": {},
   "outputs": [
    {
     "data": {
      "text/plain": [
       "True"
      ]
     },
     "execution_count": 40,
     "metadata": {},
     "output_type": "execute_result"
    }
   ],
   "source": [
    "isautomorphic(25)"
   ]
  },
  {
   "cell_type": "code",
   "execution_count": 42,
   "metadata": {},
   "outputs": [
    {
     "data": {
      "text/plain": [
       "False"
      ]
     },
     "execution_count": 42,
     "metadata": {},
     "output_type": "execute_result"
    }
   ],
   "source": [
    "isautomorphic(70)"
   ]
  },
  {
   "cell_type": "code",
   "execution_count": 43,
   "metadata": {},
   "outputs": [
    {
     "name": "stdout",
     "output_type": "stream",
     "text": [
      "0 1 5 6 25 76 376 625 "
     ]
    }
   ],
   "source": [
    "for i in range(1000):\n",
    "    if isautomorphic(i):\n",
    "        print(i, end = \" \")"
   ]
  },
  {
   "cell_type": "code",
   "execution_count": 44,
   "metadata": {},
   "outputs": [
    {
     "data": {
      "text/plain": [
       "141376"
      ]
     },
     "execution_count": 44,
     "metadata": {},
     "output_type": "execute_result"
    }
   ],
   "source": [
    "376**2"
   ]
  },
  {
   "cell_type": "code",
   "execution_count": 45,
   "metadata": {},
   "outputs": [
    {
     "data": {
      "text/plain": [
       "390625"
      ]
     },
     "execution_count": 45,
     "metadata": {},
     "output_type": "execute_result"
    }
   ],
   "source": [
    "625**2"
   ]
  },
  {
   "cell_type": "code",
   "execution_count": 46,
   "metadata": {},
   "outputs": [
    {
     "name": "stdout",
     "output_type": "stream",
     "text": [
      "All Automorphic Numbers between 1 and 1000.\n",
      "===========================================\n",
      "1\n",
      "5\n",
      "6\n",
      "25\n",
      "76\n",
      "376\n",
      "625\n"
     ]
    }
   ],
   "source": [
    "print(\"All Automorphic Numbers between 1 and 1000.\\n===========================================\")\n",
    "    \n",
    "div = 10\n",
    "    \n",
    "for num in range(1,1000):\n",
    "    if (div >= num):\n",
    "        if((num * num) % div == num):\n",
    "            print( num )\n",
    "        \n",
    "        elif (div <= num):\n",
    "            div *= 10            \n",
    "            if((num * num) % div == num):\n",
    "                print( num )"
   ]
  },
  {
   "cell_type": "code",
   "execution_count": 237,
   "metadata": {},
   "outputs": [
    {
     "name": "stdout",
     "output_type": "stream",
     "text": [
      "abcdefghijklmnopqrstuvwxyz"
     ]
    }
   ],
   "source": [
    "for i in range(97,123):\n",
    "    print(((chr(i))),end = '')\n",
    "    "
   ]
  },
  {
   "cell_type": "code",
   "execution_count": 238,
   "metadata": {},
   "outputs": [
    {
     "data": {
      "text/plain": [
       "'ROnIT'"
      ]
     },
     "execution_count": 238,
     "metadata": {},
     "output_type": "execute_result"
    }
   ],
   "source": [
    "b = 'roNit'\n",
    "a = b.swapcase()\n",
    "a"
   ]
  },
  {
   "cell_type": "code",
   "execution_count": 239,
   "metadata": {},
   "outputs": [],
   "source": [
    "def keepalpha(s):\n",
    "    j = ''\n",
    "    for i in s:\n",
    "        if i.isalpha():\n",
    "            j += i\n",
    "    return j"
   ]
  },
  {
   "cell_type": "code",
   "execution_count": 240,
   "metadata": {},
   "outputs": [
    {
     "data": {
      "text/plain": [
       "'ronitRajsahugmailcom'"
      ]
     },
     "execution_count": 240,
     "metadata": {},
     "output_type": "execute_result"
    }
   ],
   "source": [
    "keepalpha('ronitRajsahu1996_@gmail.com@2020#4')"
   ]
  },
  {
   "cell_type": "code",
   "execution_count": 15,
   "metadata": {},
   "outputs": [
    {
     "data": {
      "text/plain": [
       "'ronit raj sahu'"
      ]
     },
     "execution_count": 15,
     "metadata": {},
     "output_type": "execute_result"
    }
   ],
   "source": [
    "a = 'ronit raj sahu'\n",
    "\n",
    "b = a.upper()\n",
    "\n",
    "b\n",
    "a"
   ]
  },
  {
   "cell_type": "code",
   "execution_count": 16,
   "metadata": {},
   "outputs": [
    {
     "data": {
      "text/plain": [
       "'Ronit Raj Sahu'"
      ]
     },
     "execution_count": 16,
     "metadata": {},
     "output_type": "execute_result"
    }
   ],
   "source": [
    "a.title()"
   ]
  },
  {
   "cell_type": "code",
   "execution_count": 25,
   "metadata": {},
   "outputs": [],
   "source": [
    "a = 'ronit raj sahu'\n",
    "\n",
    "def upper_wfl(s):\n",
    "    l = s.split()\n",
    "    res = []\n",
    "    for i in l:\n",
    "        lastchr = len(i)-1\n",
    "        w = ''\n",
    "        for j in range(len(i)):\n",
    "            if j in (0,lastchr):\n",
    "                w += i[j].upper()\n",
    "            else:\n",
    "                w += i[j]\n",
    "#             print(w)\n",
    "        res.append(w)\n",
    "    return ' '.join(res)"
   ]
  },
  {
   "cell_type": "code",
   "execution_count": 26,
   "metadata": {},
   "outputs": [
    {
     "data": {
      "text/plain": [
       "'RoniT RaJ SahU'"
      ]
     },
     "execution_count": 26,
     "metadata": {},
     "output_type": "execute_result"
    }
   ],
   "source": [
    "upper_wfl(a)"
   ]
  },
  {
   "cell_type": "code",
   "execution_count": 29,
   "metadata": {},
   "outputs": [],
   "source": [
    "def freq_cal(a):\n",
    "    st = set(a)\n",
    "    d = {}\n",
    "    print(st)\n",
    "    for i in st:\n",
    "        d[i] = a.count(i)\n",
    "    return d"
   ]
  },
  {
   "cell_type": "code",
   "execution_count": 30,
   "metadata": {},
   "outputs": [
    {
     "name": "stdout",
     "output_type": "stream",
     "text": [
      "{'n', 'j', 's', 't', ' ', 'h', 'r', 'o', 'a', 'i', 'u'}\n"
     ]
    },
    {
     "data": {
      "text/plain": [
       "{'n': 1,\n",
       " 'j': 1,\n",
       " 's': 1,\n",
       " 't': 1,\n",
       " ' ': 2,\n",
       " 'h': 1,\n",
       " 'r': 2,\n",
       " 'o': 1,\n",
       " 'a': 2,\n",
       " 'i': 1,\n",
       " 'u': 1}"
      ]
     },
     "execution_count": 30,
     "metadata": {},
     "output_type": "execute_result"
    }
   ],
   "source": [
    "freq_cal(a)"
   ]
  },
  {
   "cell_type": "code",
   "execution_count": 36,
   "metadata": {},
   "outputs": [],
   "source": [
    "def pyramid1(n):\n",
    "    for i in range(n+1):\n",
    "        for j in range(i):\n",
    "            print('*', end = ' ')\n",
    "        print()\n",
    "def pyramid2(n):\n",
    "    for i in range(n+1):\n",
    "        for j in range(2 * i - 1):\n",
    "            print('*', end = ' ')\n",
    "        print()\n",
    "    "
   ]
  },
  {
   "cell_type": "code",
   "execution_count": null,
   "metadata": {},
   "outputs": [],
   "source": [
    "def pyramidjust1(n):\n",
    "    "
   ]
  },
  {
   "cell_type": "code",
   "execution_count": 35,
   "metadata": {},
   "outputs": [
    {
     "name": "stdout",
     "output_type": "stream",
     "text": [
      "\n",
      "* \n",
      "* * \n",
      "* * * \n",
      "* * * * \n",
      "* * * * * \n"
     ]
    }
   ],
   "source": [
    "pyramid1(5)"
   ]
  },
  {
   "cell_type": "code",
   "execution_count": 127,
   "metadata": {},
   "outputs": [
    {
     "name": "stdout",
     "output_type": "stream",
     "text": [
      "\n",
      "* \n",
      "* * * \n",
      "* * * * * \n",
      "* * * * * * * \n",
      "* * * * * * * * * \n"
     ]
    }
   ],
   "source": [
    "pyramid2(5)"
   ]
  },
  {
   "cell_type": "code",
   "execution_count": 54,
   "metadata": {},
   "outputs": [],
   "source": [
    "def pyramid3(n):\n",
    "    for i in range(n+1):\n",
    "        for j in range(n-i):\n",
    "            print(' ', end = ' ')\n",
    "        for k in range(i):\n",
    "            print('*',end = ' ')\n",
    "        print()\n",
    "    "
   ]
  },
  {
   "cell_type": "code",
   "execution_count": 51,
   "metadata": {},
   "outputs": [
    {
     "name": "stdout",
     "output_type": "stream",
     "text": [
      "                                                          \n",
      "                                                        * \n",
      "                                                      * * \n",
      "                                                    * * * \n",
      "                                                  * * * * \n",
      "                                                * * * * * \n",
      "                                              * * * * * * \n",
      "                                            * * * * * * * \n",
      "                                          * * * * * * * * \n",
      "                                        * * * * * * * * * \n",
      "                                      * * * * * * * * * * \n",
      "                                    * * * * * * * * * * * \n",
      "                                  * * * * * * * * * * * * \n",
      "                                * * * * * * * * * * * * * \n",
      "                              * * * * * * * * * * * * * * \n",
      "                            * * * * * * * * * * * * * * * \n",
      "                          * * * * * * * * * * * * * * * * \n",
      "                        * * * * * * * * * * * * * * * * * \n",
      "                      * * * * * * * * * * * * * * * * * * \n",
      "                    * * * * * * * * * * * * * * * * * * * \n",
      "                  * * * * * * * * * * * * * * * * * * * * \n",
      "                * * * * * * * * * * * * * * * * * * * * * \n",
      "              * * * * * * * * * * * * * * * * * * * * * * \n",
      "            * * * * * * * * * * * * * * * * * * * * * * * \n",
      "          * * * * * * * * * * * * * * * * * * * * * * * * \n",
      "        * * * * * * * * * * * * * * * * * * * * * * * * * \n",
      "      * * * * * * * * * * * * * * * * * * * * * * * * * * \n",
      "    * * * * * * * * * * * * * * * * * * * * * * * * * * * \n",
      "  * * * * * * * * * * * * * * * * * * * * * * * * * * * * \n",
      "* * * * * * * * * * * * * * * * * * * * * * * * * * * * * \n"
     ]
    }
   ],
   "source": [
    "pyramid3(29)"
   ]
  },
  {
   "cell_type": "code",
   "execution_count": 241,
   "metadata": {},
   "outputs": [],
   "source": [
    "def pyramidjust3(n):\n",
    "    for i in range(1,n+1):\n",
    "        print(('*'*i).rjust(n))"
   ]
  },
  {
   "cell_type": "code",
   "execution_count": 242,
   "metadata": {},
   "outputs": [
    {
     "name": "stdout",
     "output_type": "stream",
     "text": [
      "    *\n",
      "   **\n",
      "  ***\n",
      " ****\n",
      "*****\n"
     ]
    }
   ],
   "source": [
    "pyramidjust3(5)"
   ]
  },
  {
   "cell_type": "code",
   "execution_count": 53,
   "metadata": {},
   "outputs": [],
   "source": [
    "def pyramid4(n):\n",
    "    for i in range(n+1):\n",
    "        for j in range(2*(n-i)):\n",
    "            print(' ', end = ' ')\n",
    "        for k in range(2*i-1):\n",
    "            print('*',end = ' ')\n",
    "        print()\n",
    "    "
   ]
  },
  {
   "cell_type": "code",
   "execution_count": 58,
   "metadata": {},
   "outputs": [
    {
     "name": "stdout",
     "output_type": "stream",
     "text": [
      "                    \n",
      "                * \n",
      "            * * * \n",
      "        * * * * * \n",
      "    * * * * * * * \n",
      "* * * * * * * * * \n"
     ]
    }
   ],
   "source": [
    "pyramid4(5)"
   ]
  },
  {
   "cell_type": "code",
   "execution_count": 133,
   "metadata": {},
   "outputs": [],
   "source": [
    "def pyramidjust4(n):\n",
    "    for i in range(1,n+1):\n",
    "        print(('*'*(2*i-1)).rjust(2*n-1))"
   ]
  },
  {
   "cell_type": "code",
   "execution_count": 134,
   "metadata": {},
   "outputs": [
    {
     "name": "stdout",
     "output_type": "stream",
     "text": [
      "        *\n",
      "      ***\n",
      "    *****\n",
      "  *******\n",
      "*********\n"
     ]
    }
   ],
   "source": [
    "pyramidjust4(5)"
   ]
  },
  {
   "cell_type": "code",
   "execution_count": 63,
   "metadata": {},
   "outputs": [],
   "source": [
    "def pyramid5(n):\n",
    "    for i in range(1,n+1):\n",
    "        for j in range(n-i):\n",
    "            print(' ', end = ' ')\n",
    "        for k in range(2*i-1):\n",
    "            print('*',end = ' ')\n",
    "        for l in range(n-i):\n",
    "            print(' ', end = ' ')\n",
    "        print()"
   ]
  },
  {
   "cell_type": "code",
   "execution_count": 64,
   "metadata": {},
   "outputs": [
    {
     "name": "stdout",
     "output_type": "stream",
     "text": [
      "        *         \n",
      "      * * *       \n",
      "    * * * * *     \n",
      "  * * * * * * *   \n",
      "* * * * * * * * * \n"
     ]
    }
   ],
   "source": [
    "pyramid5(5)"
   ]
  },
  {
   "cell_type": "code",
   "execution_count": 243,
   "metadata": {},
   "outputs": [],
   "source": [
    "def pyramidjust5(n):\n",
    "    for i in range(1,n+1):\n",
    "        print(('*'*(2*i-1)).center(2*n-1))"
   ]
  },
  {
   "cell_type": "code",
   "execution_count": 244,
   "metadata": {},
   "outputs": [
    {
     "name": "stdout",
     "output_type": "stream",
     "text": [
      "    *    \n",
      "   ***   \n",
      "  *****  \n",
      " ******* \n",
      "*********\n"
     ]
    }
   ],
   "source": [
    "pyramidjust5(5)"
   ]
  },
  {
   "cell_type": "code",
   "execution_count": 245,
   "metadata": {},
   "outputs": [],
   "source": [
    "def numberpyramid1(n):\n",
    "    for i in range(1,n+1):\n",
    "        for j in range(1,i+1):\n",
    "            print(j,end = ' ')\n",
    "        print()"
   ]
  },
  {
   "cell_type": "code",
   "execution_count": 246,
   "metadata": {},
   "outputs": [
    {
     "name": "stdout",
     "output_type": "stream",
     "text": [
      "1 \n",
      "1 2 \n",
      "1 2 3 \n",
      "1 2 3 4 \n",
      "1 2 3 4 5 \n"
     ]
    }
   ],
   "source": [
    "numberpyramid1(5)"
   ]
  },
  {
   "cell_type": "code",
   "execution_count": 85,
   "metadata": {},
   "outputs": [],
   "source": [
    "def numberpyramid2(n):\n",
    "    for i in range(1,n+1):\n",
    "        for j in range(1,n-i+2):\n",
    "            print(j,end = ' ')\n",
    "        print()"
   ]
  },
  {
   "cell_type": "code",
   "execution_count": 139,
   "metadata": {},
   "outputs": [
    {
     "name": "stdout",
     "output_type": "stream",
     "text": [
      "1 2 3 4 5 6 7 8 9 \n",
      "1 2 3 4 5 6 7 8 \n",
      "1 2 3 4 5 6 7 \n",
      "1 2 3 4 5 6 \n",
      "1 2 3 4 5 \n",
      "1 2 3 4 \n",
      "1 2 3 \n",
      "1 2 \n",
      "1 \n"
     ]
    }
   ],
   "source": [
    "numberpyramid2(9)"
   ]
  },
  {
   "cell_type": "code",
   "execution_count": 111,
   "metadata": {},
   "outputs": [],
   "source": [
    "def numberpyramid3(n):\n",
    "    for i in range(1,n+1):\n",
    "        for j in range(n-i):\n",
    "            print('  ',end = ' ')\n",
    "        for k in range(i,2*i):\n",
    "            print(str(k).rjust(2,'0'),end = ' ')\n",
    "        for l in range(2*(i-1),i-1,-1):\n",
    "            print(str(l).rjust(2,'0'),end = ' ')\n",
    "        print()\n",
    "        "
   ]
  },
  {
   "cell_type": "code",
   "execution_count": 140,
   "metadata": {},
   "outputs": [
    {
     "name": "stdout",
     "output_type": "stream",
     "text": [
      "            01 \n",
      "         02 03 02 \n",
      "      03 04 05 04 03 \n",
      "   04 05 06 07 06 05 04 \n",
      "05 06 07 08 09 08 07 06 05 \n"
     ]
    }
   ],
   "source": [
    "numberpyramid3(5)"
   ]
  },
  {
   "cell_type": "code",
   "execution_count": 172,
   "metadata": {},
   "outputs": [],
   "source": [
    "def numberpyramidjust3(n):\n",
    "    for i in range(1, n+1):\n",
    "        w = [str(j) for j in range(i,2*i)]\n",
    "        s = ''.join(w) + ''.join(w[-1::-1][1:])\n",
    "        print(s.center(2*n-1))"
   ]
  },
  {
   "cell_type": "code",
   "execution_count": 174,
   "metadata": {},
   "outputs": [
    {
     "name": "stdout",
     "output_type": "stream",
     "text": [
      "    1    \n",
      "   232   \n",
      "  34543  \n",
      " 4567654 \n",
      "567898765\n"
     ]
    }
   ],
   "source": [
    "numberpyramidjust3(5)"
   ]
  },
  {
   "cell_type": "code",
   "execution_count": 121,
   "metadata": {},
   "outputs": [
    {
     "data": {
      "text/plain": [
       "5"
      ]
     },
     "execution_count": 121,
     "metadata": {},
     "output_type": "execute_result"
    }
   ],
   "source": [
    "'ronitraj'.rfind('r')"
   ]
  },
  {
   "cell_type": "code",
   "execution_count": 123,
   "metadata": {},
   "outputs": [
    {
     "name": "stdout",
     "output_type": "stream",
     "text": [
      "1 \n",
      "2 3 \n",
      "4 5 6 \n",
      "7 8 9 10 \n",
      "11 12 13 14 15 \n",
      "16 17 18 19 20 21 \n",
      "22 23 24 25 26 27 28 \n",
      "29 30 31 32 33 34 35 36 \n",
      "37 38 39 40 41 42 43 44 45 \n"
     ]
    }
   ],
   "source": [
    "\n",
    "k = 1\n",
    "for i in range(1,1+9):\n",
    "    for j in range(1,1+i):\n",
    "        print(k,end = ' ')\n",
    "        k += 1\n",
    "    print()"
   ]
  },
  {
   "cell_type": "code",
   "execution_count": 126,
   "metadata": {},
   "outputs": [
    {
     "ename": "NameError",
     "evalue": "name 'reverse' is not defined",
     "output_type": "error",
     "traceback": [
      "\u001b[0;31m---------------------------------------------------------------------------\u001b[0m",
      "\u001b[0;31mNameError\u001b[0m                                 Traceback (most recent call last)",
      "\u001b[0;32m<ipython-input-126-d4fbeb88ef3f>\u001b[0m in \u001b[0;36m<module>\u001b[0;34m\u001b[0m\n\u001b[1;32m      3\u001b[0m \u001b[0mm\u001b[0m \u001b[0;34m=\u001b[0m \u001b[0ml\u001b[0m\u001b[0;34m.\u001b[0m\u001b[0mreverse\u001b[0m\u001b[0;34m(\u001b[0m\u001b[0;34m)\u001b[0m\u001b[0;34m\u001b[0m\u001b[0;34m\u001b[0m\u001b[0m\n\u001b[1;32m      4\u001b[0m \u001b[0;34m\u001b[0m\u001b[0m\n\u001b[0;32m----> 5\u001b[0;31m \u001b[0mm\u001b[0m \u001b[0;34m=\u001b[0m \u001b[0mreverse\u001b[0m\u001b[0;34m(\u001b[0m\u001b[0ml\u001b[0m\u001b[0;34m)\u001b[0m\u001b[0;34m\u001b[0m\u001b[0;34m\u001b[0m\u001b[0m\n\u001b[0m\u001b[1;32m      6\u001b[0m \u001b[0;34m\u001b[0m\u001b[0m\n\u001b[1;32m      7\u001b[0m \u001b[0mm\u001b[0m\u001b[0;34m\u001b[0m\u001b[0;34m\u001b[0m\u001b[0m\n",
      "\u001b[0;31mNameError\u001b[0m: name 'reverse' is not defined"
     ]
    }
   ],
   "source": [
    "l = [1,2,3,4,5,5,8,9,4]\n",
    "\n",
    "m = l.reverse()\n",
    "\n",
    "m = reverse(l)\n",
    "\n",
    "m"
   ]
  },
  {
   "cell_type": "code",
   "execution_count": 152,
   "metadata": {},
   "outputs": [],
   "source": [
    "w = ['5', '6', '7', '8', '9']"
   ]
  },
  {
   "cell_type": "code",
   "execution_count": 171,
   "metadata": {},
   "outputs": [
    {
     "data": {
      "text/plain": [
       "['9', '8', '7']"
      ]
     },
     "execution_count": 171,
     "metadata": {},
     "output_type": "execute_result"
    }
   ],
   "source": [
    "w[:-4:-1]"
   ]
  },
  {
   "cell_type": "code",
   "execution_count": 5,
   "metadata": {},
   "outputs": [],
   "source": [
    "def lcm(*argv):\n",
    "    maxargv = max(argv)\n",
    "    foundin = 0\n",
    "    while foundin == 0:\n",
    "        for i in argv:\n",
    "            if maxargv % i == 0:\n",
    "                pass\n",
    "            else:\n",
    "                break\n",
    "        else:\n",
    "            return maxargv\n",
    "        maxargv += 1"
   ]
  },
  {
   "cell_type": "code",
   "execution_count": 6,
   "metadata": {},
   "outputs": [
    {
     "data": {
      "text/plain": [
       "135"
      ]
     },
     "execution_count": 6,
     "metadata": {},
     "output_type": "execute_result"
    }
   ],
   "source": [
    "lcm(5,15,27)"
   ]
  },
  {
   "cell_type": "code",
   "execution_count": 3,
   "metadata": {},
   "outputs": [
    {
     "data": {
      "text/plain": [
       "180"
      ]
     },
     "execution_count": 3,
     "metadata": {},
     "output_type": "execute_result"
    }
   ],
   "source": [
    "lcm(12,5,18)"
   ]
  },
  {
   "cell_type": "code",
   "execution_count": 4,
   "metadata": {},
   "outputs": [
    {
     "data": {
      "text/plain": [
       "24"
      ]
     },
     "execution_count": 4,
     "metadata": {},
     "output_type": "execute_result"
    }
   ],
   "source": [
    "lcm(4,8,12)"
   ]
  },
  {
   "cell_type": "code",
   "execution_count": 7,
   "metadata": {},
   "outputs": [],
   "source": [
    "def lcm(**kwargv):\n",
    "    maxargv = max(kwargv.values())\n",
    "    foundin = 0\n",
    "    while foundin == 0:\n",
    "        for i in kwargv.values():\n",
    "            if maxargv % i == 0:\n",
    "                pass\n",
    "            else:\n",
    "                break\n",
    "        else:\n",
    "            return maxargv\n",
    "        maxargv += 1"
   ]
  },
  {
   "cell_type": "code",
   "execution_count": 9,
   "metadata": {},
   "outputs": [
    {
     "data": {
      "text/plain": [
       "60"
      ]
     },
     "execution_count": 9,
     "metadata": {},
     "output_type": "execute_result"
    }
   ],
   "source": [
    "lcm(first = 15,second = 20)"
   ]
  },
  {
   "cell_type": "code",
   "execution_count": 19,
   "metadata": {},
   "outputs": [
    {
     "data": {
      "text/plain": [
       "dict_keys(['r', 'b'])"
      ]
     },
     "execution_count": 19,
     "metadata": {},
     "output_type": "execute_result"
    }
   ],
   "source": [
    "{'r' : 1, 'b' : 2}.keys()"
   ]
  },
  {
   "cell_type": "code",
   "execution_count": 2,
   "metadata": {},
   "outputs": [
    {
     "data": {
      "text/plain": [
       "15"
      ]
     },
     "execution_count": 2,
     "metadata": {},
     "output_type": "execute_result"
    }
   ],
   "source": [
    "def gcd(*numbers):\n",
    "    minargs = min(numbers)\n",
    "    while True:\n",
    "        for i in numbers:\n",
    "            if i % minargs != 0:\n",
    "                break\n",
    "        else:\n",
    "            return minargs\n",
    "        minargs -= 1\n",
    "gcd(60,45,180)"
   ]
  },
  {
   "cell_type": "code",
   "execution_count": 3,
   "metadata": {},
   "outputs": [
    {
     "name": "stdout",
     "output_type": "stream",
     "text": [
      "['test.py', 'ronit', 'raj', 'sahu']\n",
      "<class 'list'>\n"
     ]
    }
   ],
   "source": [
    "%run test.py ronit raj sahu"
   ]
  },
  {
   "cell_type": "code",
   "execution_count": null,
   "metadata": {},
   "outputs": [],
   "source": []
  }
 ],
 "metadata": {
  "kernelspec": {
   "display_name": "Python 3",
   "language": "python",
   "name": "python3"
  },
  "language_info": {
   "codemirror_mode": {
    "name": "ipython",
    "version": 3
   },
   "file_extension": ".py",
   "mimetype": "text/x-python",
   "name": "python",
   "nbconvert_exporter": "python",
   "pygments_lexer": "ipython3",
   "version": "3.8.5"
  }
 },
 "nbformat": 4,
 "nbformat_minor": 4
}
